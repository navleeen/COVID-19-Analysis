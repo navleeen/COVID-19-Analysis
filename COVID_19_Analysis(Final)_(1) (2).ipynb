{
  "cells": [
    {
      "cell_type": "markdown",
      "metadata": {
        "id": "l1BRyjCALsha"
      },
      "source": [
        "# **Objective Of The Project :**\n",
        "\n",
        "The main goal of this project is to build a machine learning model that, given a Covid-19 patient's current symptom, status, and medical history, will predict whether the patient is in high risk or not."
      ]
    },
    {
      "cell_type": "markdown",
      "metadata": {
        "id": "PWGQdlyjoJOc"
      },
      "source": [
        "# **About Dataset**\n",
        "\n",
        "The dataset consists of data of anonymous covid patients from mexico. It has their medical history and medical status at that particular time. ***In the Boolean features, 1 means \"yes\" and 2 means \"no\". values as 97 and 99 are missing data.*** The respective columns mean:\n",
        "\n",
        "1. sex: 1 for female and 2 for male.\n",
        "2. age: of the patient.\n",
        "3. classification: Covid test findings. Values 1-3 mean that the patient was diagnosed with covid in different degrees. 4 or higher means that the patient is not a carrier of covid or that the test is inconclusive.\n",
        "4. patient type: type of care the patient received in the unit. 1 for returned home and 2 for hospitalization.\n",
        "5. pneumonia: whether the patient already have air sacs inflammation or not.\n",
        "6. pregnancy: whether the patient is pregnant or not.\n",
        "7. diabetes: whether the patient has diabetes or not.\n",
        "8. copd: Indicates whether the patient has Chronic obstructive pulmonary disease or not.\n",
        "9. asthma: whether the patient has asthma or not.\n",
        "10. inmsupr: whether the patient is immunosuppressed or not.\n",
        "11. hypertension: whether the patient has hypertension or not.\n",
        "12. cardiovascular: whether the patient has heart or blood vessels related disease.\n",
        "13. renal chronic: whether the patient has chronic renal disease or not.\n",
        "14. other disease: whether the patient has other disease or not.\n",
        "15. obesity: whether the patient is obese or not.\n",
        "17. tobacco: whether the patient is a tobacco user.\n",
        "18. usmr: Indicates whether the patient treated medical units of the first, second or third level.\n",
        "19. medical unit: type of institution of the National Health System that provided the care.\n",
        "20. intubed: whether the patient was connected to the ventilator.\n",
        "21. icu: Indicates whether the patient had been admitted to an Intensive Care Unit.\n",
        "22. date died: If the patient died indicate the date of death and 9999-99-99 otherwise.\n"
      ]
    },
    {
      "cell_type": "code",
      "execution_count": null,
      "metadata": {
        "colab": {
          "base_uri": "https://localhost:8080/"
        },
        "id": "QDafdNEPIPLT",
        "outputId": "5a833121-315a-4caf-8e5a-c2b69b9a1624"
      },
      "outputs": [
        {
          "name": "stdout",
          "output_type": "stream",
          "text": [
            "Mounted at /content/drive\n"
          ]
        }
      ],
      "source": [
        "from google.colab import drive\n",
        "drive.mount('/content/drive')"
      ]
    },
    {
      "cell_type": "markdown",
      "metadata": {
        "id": "z2QRgYV6shnw"
      },
      "source": [
        "This code mounts our Google Drive to Google Colab notebook and it allows us to access files on our Google Drive directly from the Colab notebook."
      ]
    },
    {
      "cell_type": "markdown",
      "metadata": {
        "id": "sd05Vv7MAGAV"
      },
      "source": [
        "**DIRECTLY LINK KAGGLE ACCOUNT TO DOWNLOAD FILES**"
      ]
    },
    {
      "cell_type": "code",
      "execution_count": null,
      "metadata": {
        "colab": {
          "base_uri": "https://localhost:8080/"
        },
        "id": "EWPwiLVs0vk0",
        "outputId": "b6cd106f-8521-4d95-ad16-9262a4745dda"
      },
      "outputs": [
        {
          "name": "stdout",
          "output_type": "stream",
          "text": [
            "Looking in indexes: https://pypi.org/simple, https://us-python.pkg.dev/colab-wheels/public/simple/\n",
            "Requirement already satisfied: kaggle in /usr/local/lib/python3.10/dist-packages (1.5.13)\n",
            "Requirement already satisfied: six>=1.10 in /usr/local/lib/python3.10/dist-packages (from kaggle) (1.16.0)\n",
            "Requirement already satisfied: certifi in /usr/local/lib/python3.10/dist-packages (from kaggle) (2022.12.7)\n",
            "Requirement already satisfied: python-dateutil in /usr/local/lib/python3.10/dist-packages (from kaggle) (2.8.2)\n",
            "Requirement already satisfied: requests in /usr/local/lib/python3.10/dist-packages (from kaggle) (2.27.1)\n",
            "Requirement already satisfied: tqdm in /usr/local/lib/python3.10/dist-packages (from kaggle) (4.65.0)\n",
            "Requirement already satisfied: python-slugify in /usr/local/lib/python3.10/dist-packages (from kaggle) (8.0.1)\n",
            "Requirement already satisfied: urllib3 in /usr/local/lib/python3.10/dist-packages (from kaggle) (1.26.15)\n",
            "Requirement already satisfied: text-unidecode>=1.3 in /usr/local/lib/python3.10/dist-packages (from python-slugify->kaggle) (1.3)\n",
            "Requirement already satisfied: charset-normalizer~=2.0.0 in /usr/local/lib/python3.10/dist-packages (from requests->kaggle) (2.0.12)\n",
            "Requirement already satisfied: idna<4,>=2.5 in /usr/local/lib/python3.10/dist-packages (from requests->kaggle) (3.4)\n"
          ]
        }
      ],
      "source": [
        "! pip install kaggle \n",
        "! mkdir ~/.kaggle\n",
        "!cp /content/drive/MyDrive/kaggle.json ~/.kaggle/kaggle.json"
      ]
    },
    {
      "cell_type": "markdown",
      "metadata": {
        "id": "_Er1oRFhqmIT"
      },
      "source": [
        "Here we linked Kaggle platform directly to colab notebook, so that we can directly load dataset and perform analysis on it."
      ]
    },
    {
      "cell_type": "markdown",
      "metadata": {
        "id": "O4O4T_EbAW_e"
      },
      "source": [
        "**DOWNLOAD DATASET FROM KAGGLE**"
      ]
    },
    {
      "cell_type": "code",
      "execution_count": null,
      "metadata": {
        "colab": {
          "base_uri": "https://localhost:8080/"
        },
        "id": "ReNGfbqZAeo1",
        "outputId": "b511bf5e-5e95-4537-87ad-412e03733c68"
      },
      "outputs": [
        {
          "name": "stdout",
          "output_type": "stream",
          "text": [
            "Downloading covid19-dataset.zip to /content\n",
            "\r  0% 0.00/4.66M [00:00<?, ?B/s]\n",
            "\r100% 4.66M/4.66M [00:00<00:00, 107MB/s]\n",
            "Archive:  covid19-dataset.zip\n",
            "  inflating: Covid Data.csv          \n"
          ]
        }
      ],
      "source": [
        "! kaggle datasets download -d meirnizri/covid19-dataset\n",
        "! unzip covid19-dataset.zip"
      ]
    },
    {
      "cell_type": "markdown",
      "metadata": {
        "id": "7vp4bzF0xI_D"
      },
      "source": [
        "**IMPORT NECESSARY LIBRARIES**"
      ]
    },
    {
      "cell_type": "code",
      "execution_count": null,
      "metadata": {
        "id": "8SJ62iZ2yqfB"
      },
      "outputs": [],
      "source": [
        "import numpy as np\n",
        "import pandas as pd\n",
        "import seaborn as sns\n",
        "import matplotlib.pyplot as plt\n",
        "import plotly.express as px\n"
      ]
    },
    {
      "cell_type": "markdown",
      "metadata": {
        "id": "x_bpD2xxBW6b"
      },
      "source": [
        "**LOAD DATASET**"
      ]
    },
    {
      "cell_type": "code",
      "execution_count": null,
      "metadata": {
        "colab": {
          "base_uri": "https://localhost:8080/",
          "height": 299
        },
        "id": "FmQxeSB2BF4T",
        "outputId": "effedf40-24f0-45a7-d5c3-5f73e50add87"
      },
      "outputs": [
        {
          "data": {
            "text/html": [
              "\n",
              "  <div id=\"df-24cabb05-7a6e-445c-988e-7aacfbc61434\">\n",
              "    <div class=\"colab-df-container\">\n",
              "      <div>\n",
              "<style scoped>\n",
              "    .dataframe tbody tr th:only-of-type {\n",
              "        vertical-align: middle;\n",
              "    }\n",
              "\n",
              "    .dataframe tbody tr th {\n",
              "        vertical-align: top;\n",
              "    }\n",
              "\n",
              "    .dataframe thead th {\n",
              "        text-align: right;\n",
              "    }\n",
              "</style>\n",
              "<table border=\"1\" class=\"dataframe\">\n",
              "  <thead>\n",
              "    <tr style=\"text-align: right;\">\n",
              "      <th></th>\n",
              "      <th>USMER</th>\n",
              "      <th>MEDICAL_UNIT</th>\n",
              "      <th>SEX</th>\n",
              "      <th>PATIENT_TYPE</th>\n",
              "      <th>DATE_DIED</th>\n",
              "      <th>INTUBED</th>\n",
              "      <th>PNEUMONIA</th>\n",
              "      <th>AGE</th>\n",
              "      <th>PREGNANT</th>\n",
              "      <th>DIABETES</th>\n",
              "      <th>...</th>\n",
              "      <th>ASTHMA</th>\n",
              "      <th>INMSUPR</th>\n",
              "      <th>HIPERTENSION</th>\n",
              "      <th>OTHER_DISEASE</th>\n",
              "      <th>CARDIOVASCULAR</th>\n",
              "      <th>OBESITY</th>\n",
              "      <th>RENAL_CHRONIC</th>\n",
              "      <th>TOBACCO</th>\n",
              "      <th>CLASIFFICATION_FINAL</th>\n",
              "      <th>ICU</th>\n",
              "    </tr>\n",
              "  </thead>\n",
              "  <tbody>\n",
              "    <tr>\n",
              "      <th>0</th>\n",
              "      <td>2</td>\n",
              "      <td>1</td>\n",
              "      <td>1</td>\n",
              "      <td>1</td>\n",
              "      <td>03/05/2020</td>\n",
              "      <td>97</td>\n",
              "      <td>1</td>\n",
              "      <td>65</td>\n",
              "      <td>2</td>\n",
              "      <td>2</td>\n",
              "      <td>...</td>\n",
              "      <td>2</td>\n",
              "      <td>2</td>\n",
              "      <td>1</td>\n",
              "      <td>2</td>\n",
              "      <td>2</td>\n",
              "      <td>2</td>\n",
              "      <td>2</td>\n",
              "      <td>2</td>\n",
              "      <td>3</td>\n",
              "      <td>97</td>\n",
              "    </tr>\n",
              "    <tr>\n",
              "      <th>1</th>\n",
              "      <td>2</td>\n",
              "      <td>1</td>\n",
              "      <td>2</td>\n",
              "      <td>1</td>\n",
              "      <td>03/06/2020</td>\n",
              "      <td>97</td>\n",
              "      <td>1</td>\n",
              "      <td>72</td>\n",
              "      <td>97</td>\n",
              "      <td>2</td>\n",
              "      <td>...</td>\n",
              "      <td>2</td>\n",
              "      <td>2</td>\n",
              "      <td>1</td>\n",
              "      <td>2</td>\n",
              "      <td>2</td>\n",
              "      <td>1</td>\n",
              "      <td>1</td>\n",
              "      <td>2</td>\n",
              "      <td>5</td>\n",
              "      <td>97</td>\n",
              "    </tr>\n",
              "    <tr>\n",
              "      <th>2</th>\n",
              "      <td>2</td>\n",
              "      <td>1</td>\n",
              "      <td>2</td>\n",
              "      <td>2</td>\n",
              "      <td>09/06/2020</td>\n",
              "      <td>1</td>\n",
              "      <td>2</td>\n",
              "      <td>55</td>\n",
              "      <td>97</td>\n",
              "      <td>1</td>\n",
              "      <td>...</td>\n",
              "      <td>2</td>\n",
              "      <td>2</td>\n",
              "      <td>2</td>\n",
              "      <td>2</td>\n",
              "      <td>2</td>\n",
              "      <td>2</td>\n",
              "      <td>2</td>\n",
              "      <td>2</td>\n",
              "      <td>3</td>\n",
              "      <td>2</td>\n",
              "    </tr>\n",
              "    <tr>\n",
              "      <th>3</th>\n",
              "      <td>2</td>\n",
              "      <td>1</td>\n",
              "      <td>1</td>\n",
              "      <td>1</td>\n",
              "      <td>12/06/2020</td>\n",
              "      <td>97</td>\n",
              "      <td>2</td>\n",
              "      <td>53</td>\n",
              "      <td>2</td>\n",
              "      <td>2</td>\n",
              "      <td>...</td>\n",
              "      <td>2</td>\n",
              "      <td>2</td>\n",
              "      <td>2</td>\n",
              "      <td>2</td>\n",
              "      <td>2</td>\n",
              "      <td>2</td>\n",
              "      <td>2</td>\n",
              "      <td>2</td>\n",
              "      <td>7</td>\n",
              "      <td>97</td>\n",
              "    </tr>\n",
              "    <tr>\n",
              "      <th>4</th>\n",
              "      <td>2</td>\n",
              "      <td>1</td>\n",
              "      <td>2</td>\n",
              "      <td>1</td>\n",
              "      <td>21/06/2020</td>\n",
              "      <td>97</td>\n",
              "      <td>2</td>\n",
              "      <td>68</td>\n",
              "      <td>97</td>\n",
              "      <td>1</td>\n",
              "      <td>...</td>\n",
              "      <td>2</td>\n",
              "      <td>2</td>\n",
              "      <td>1</td>\n",
              "      <td>2</td>\n",
              "      <td>2</td>\n",
              "      <td>2</td>\n",
              "      <td>2</td>\n",
              "      <td>2</td>\n",
              "      <td>3</td>\n",
              "      <td>97</td>\n",
              "    </tr>\n",
              "  </tbody>\n",
              "</table>\n",
              "<p>5 rows × 21 columns</p>\n",
              "</div>\n",
              "      <button class=\"colab-df-convert\" onclick=\"convertToInteractive('df-24cabb05-7a6e-445c-988e-7aacfbc61434')\"\n",
              "              title=\"Convert this dataframe to an interactive table.\"\n",
              "              style=\"display:none;\">\n",
              "        \n",
              "  <svg xmlns=\"http://www.w3.org/2000/svg\" height=\"24px\"viewBox=\"0 0 24 24\"\n",
              "       width=\"24px\">\n",
              "    <path d=\"M0 0h24v24H0V0z\" fill=\"none\"/>\n",
              "    <path d=\"M18.56 5.44l.94 2.06.94-2.06 2.06-.94-2.06-.94-.94-2.06-.94 2.06-2.06.94zm-11 1L8.5 8.5l.94-2.06 2.06-.94-2.06-.94L8.5 2.5l-.94 2.06-2.06.94zm10 10l.94 2.06.94-2.06 2.06-.94-2.06-.94-.94-2.06-.94 2.06-2.06.94z\"/><path d=\"M17.41 7.96l-1.37-1.37c-.4-.4-.92-.59-1.43-.59-.52 0-1.04.2-1.43.59L10.3 9.45l-7.72 7.72c-.78.78-.78 2.05 0 2.83L4 21.41c.39.39.9.59 1.41.59.51 0 1.02-.2 1.41-.59l7.78-7.78 2.81-2.81c.8-.78.8-2.07 0-2.86zM5.41 20L4 18.59l7.72-7.72 1.47 1.35L5.41 20z\"/>\n",
              "  </svg>\n",
              "      </button>\n",
              "      \n",
              "  <style>\n",
              "    .colab-df-container {\n",
              "      display:flex;\n",
              "      flex-wrap:wrap;\n",
              "      gap: 12px;\n",
              "    }\n",
              "\n",
              "    .colab-df-convert {\n",
              "      background-color: #E8F0FE;\n",
              "      border: none;\n",
              "      border-radius: 50%;\n",
              "      cursor: pointer;\n",
              "      display: none;\n",
              "      fill: #1967D2;\n",
              "      height: 32px;\n",
              "      padding: 0 0 0 0;\n",
              "      width: 32px;\n",
              "    }\n",
              "\n",
              "    .colab-df-convert:hover {\n",
              "      background-color: #E2EBFA;\n",
              "      box-shadow: 0px 1px 2px rgba(60, 64, 67, 0.3), 0px 1px 3px 1px rgba(60, 64, 67, 0.15);\n",
              "      fill: #174EA6;\n",
              "    }\n",
              "\n",
              "    [theme=dark] .colab-df-convert {\n",
              "      background-color: #3B4455;\n",
              "      fill: #D2E3FC;\n",
              "    }\n",
              "\n",
              "    [theme=dark] .colab-df-convert:hover {\n",
              "      background-color: #434B5C;\n",
              "      box-shadow: 0px 1px 3px 1px rgba(0, 0, 0, 0.15);\n",
              "      filter: drop-shadow(0px 1px 2px rgba(0, 0, 0, 0.3));\n",
              "      fill: #FFFFFF;\n",
              "    }\n",
              "  </style>\n",
              "\n",
              "      <script>\n",
              "        const buttonEl =\n",
              "          document.querySelector('#df-24cabb05-7a6e-445c-988e-7aacfbc61434 button.colab-df-convert');\n",
              "        buttonEl.style.display =\n",
              "          google.colab.kernel.accessAllowed ? 'block' : 'none';\n",
              "\n",
              "        async function convertToInteractive(key) {\n",
              "          const element = document.querySelector('#df-24cabb05-7a6e-445c-988e-7aacfbc61434');\n",
              "          const dataTable =\n",
              "            await google.colab.kernel.invokeFunction('convertToInteractive',\n",
              "                                                     [key], {});\n",
              "          if (!dataTable) return;\n",
              "\n",
              "          const docLinkHtml = 'Like what you see? Visit the ' +\n",
              "            '<a target=\"_blank\" href=https://colab.research.google.com/notebooks/data_table.ipynb>data table notebook</a>'\n",
              "            + ' to learn more about interactive tables.';\n",
              "          element.innerHTML = '';\n",
              "          dataTable['output_type'] = 'display_data';\n",
              "          await google.colab.output.renderOutput(dataTable, element);\n",
              "          const docLink = document.createElement('div');\n",
              "          docLink.innerHTML = docLinkHtml;\n",
              "          element.appendChild(docLink);\n",
              "        }\n",
              "      </script>\n",
              "    </div>\n",
              "  </div>\n",
              "  "
            ],
            "text/plain": [
              "   USMER  MEDICAL_UNIT  SEX  PATIENT_TYPE   DATE_DIED  INTUBED  PNEUMONIA  \\\n",
              "0      2             1    1             1  03/05/2020       97          1   \n",
              "1      2             1    2             1  03/06/2020       97          1   \n",
              "2      2             1    2             2  09/06/2020        1          2   \n",
              "3      2             1    1             1  12/06/2020       97          2   \n",
              "4      2             1    2             1  21/06/2020       97          2   \n",
              "\n",
              "   AGE  PREGNANT  DIABETES  ...  ASTHMA  INMSUPR  HIPERTENSION  OTHER_DISEASE  \\\n",
              "0   65         2         2  ...       2        2             1              2   \n",
              "1   72        97         2  ...       2        2             1              2   \n",
              "2   55        97         1  ...       2        2             2              2   \n",
              "3   53         2         2  ...       2        2             2              2   \n",
              "4   68        97         1  ...       2        2             1              2   \n",
              "\n",
              "   CARDIOVASCULAR  OBESITY  RENAL_CHRONIC  TOBACCO  CLASIFFICATION_FINAL  ICU  \n",
              "0               2        2              2        2                     3   97  \n",
              "1               2        1              1        2                     5   97  \n",
              "2               2        2              2        2                     3    2  \n",
              "3               2        2              2        2                     7   97  \n",
              "4               2        2              2        2                     3   97  \n",
              "\n",
              "[5 rows x 21 columns]"
            ]
          },
          "execution_count": 5,
          "metadata": {},
          "output_type": "execute_result"
        }
      ],
      "source": [
        "data = pd.read_csv('/content/Covid Data.csv')\n",
        "data.head()"
      ]
    },
    {
      "cell_type": "markdown",
      "metadata": {
        "id": "IOOCUCuytO5J"
      },
      "source": [
        "After loading dataset we observed that this data is either int or float type and there is no object data. This helps us get a general idea of structure of dataset."
      ]
    },
    {
      "cell_type": "markdown",
      "metadata": {
        "id": "Uhx6ANPoILrI"
      },
      "source": [
        "**CHECK DIMENSIONS OR SHAPE OF DATA**"
      ]
    },
    {
      "cell_type": "code",
      "execution_count": null,
      "metadata": {
        "colab": {
          "base_uri": "https://localhost:8080/"
        },
        "id": "dKSQj4cDIQQ0",
        "outputId": "fa1e2b4f-1d51-4d42-cbbf-add8ff19d040"
      },
      "outputs": [
        {
          "data": {
            "text/plain": [
              "(1048575, 21)"
            ]
          },
          "execution_count": 6,
          "metadata": {},
          "output_type": "execute_result"
        }
      ],
      "source": [
        "data.shape"
      ]
    },
    {
      "cell_type": "markdown",
      "metadata": {
        "id": "YrX07PrMIleT"
      },
      "source": [
        "In this dataset we have, number of rows =1048575 and number of columns =21"
      ]
    },
    {
      "cell_type": "code",
      "execution_count": null,
      "metadata": {
        "colab": {
          "base_uri": "https://localhost:8080/"
        },
        "id": "rK15-l1EL_2r",
        "outputId": "8d3c91be-7366-4653-9113-0aeacb94158f"
      },
      "outputs": [
        {
          "data": {
            "text/plain": [
              "22020075"
            ]
          },
          "execution_count": 7,
          "metadata": {},
          "output_type": "execute_result"
        }
      ],
      "source": [
        "data.size"
      ]
    },
    {
      "cell_type": "markdown",
      "metadata": {
        "id": "nwRA-acmtlnA"
      },
      "source": [
        "It returns the total number of elements in the DataFrame, which is the product of the number of rows and the number of columns(i.e, 1048575*21=22020075)"
      ]
    },
    {
      "cell_type": "markdown",
      "metadata": {
        "id": "mMng68STM2ir"
      },
      "source": [
        "**TO KNOW DATATYPE OF EACH ATTRIBUTE** "
      ]
    },
    {
      "cell_type": "code",
      "execution_count": null,
      "metadata": {
        "colab": {
          "base_uri": "https://localhost:8080/"
        },
        "id": "BXzVkOAeM1-R",
        "outputId": "25816f9f-f531-4fb7-ca45-85fc2827191e"
      },
      "outputs": [
        {
          "data": {
            "text/plain": [
              "USMER                    int64\n",
              "MEDICAL_UNIT             int64\n",
              "SEX                      int64\n",
              "PATIENT_TYPE             int64\n",
              "DATE_DIED               object\n",
              "INTUBED                  int64\n",
              "PNEUMONIA                int64\n",
              "AGE                      int64\n",
              "PREGNANT                 int64\n",
              "DIABETES                 int64\n",
              "COPD                     int64\n",
              "ASTHMA                   int64\n",
              "INMSUPR                  int64\n",
              "HIPERTENSION             int64\n",
              "OTHER_DISEASE            int64\n",
              "CARDIOVASCULAR           int64\n",
              "OBESITY                  int64\n",
              "RENAL_CHRONIC            int64\n",
              "TOBACCO                  int64\n",
              "CLASIFFICATION_FINAL     int64\n",
              "ICU                      int64\n",
              "dtype: object"
            ]
          },
          "execution_count": 8,
          "metadata": {},
          "output_type": "execute_result"
        }
      ],
      "source": [
        "data.dtypes"
      ]
    },
    {
      "cell_type": "markdown",
      "metadata": {
        "id": "I6tr75LsuELl"
      },
      "source": [
        "It clearly mentions that all column values are in int64 except for DATE_DIED column which have object type value."
      ]
    },
    {
      "cell_type": "markdown",
      "metadata": {
        "id": "xGj2FcdqIwFc"
      },
      "source": [
        "**CHECK DATASET INFO**"
      ]
    },
    {
      "cell_type": "code",
      "execution_count": null,
      "metadata": {
        "colab": {
          "base_uri": "https://localhost:8080/"
        },
        "id": "x5pjGRQ9I0pn",
        "outputId": "3babd341-e02b-4241-d716-35a80c2ed39e"
      },
      "outputs": [
        {
          "name": "stdout",
          "output_type": "stream",
          "text": [
            "<class 'pandas.core.frame.DataFrame'>\n",
            "RangeIndex: 1048575 entries, 0 to 1048574\n",
            "Data columns (total 21 columns):\n",
            " #   Column                Non-Null Count    Dtype \n",
            "---  ------                --------------    ----- \n",
            " 0   USMER                 1048575 non-null  int64 \n",
            " 1   MEDICAL_UNIT          1048575 non-null  int64 \n",
            " 2   SEX                   1048575 non-null  int64 \n",
            " 3   PATIENT_TYPE          1048575 non-null  int64 \n",
            " 4   DATE_DIED             1048575 non-null  object\n",
            " 5   INTUBED               1048575 non-null  int64 \n",
            " 6   PNEUMONIA             1048575 non-null  int64 \n",
            " 7   AGE                   1048575 non-null  int64 \n",
            " 8   PREGNANT              1048575 non-null  int64 \n",
            " 9   DIABETES              1048575 non-null  int64 \n",
            " 10  COPD                  1048575 non-null  int64 \n",
            " 11  ASTHMA                1048575 non-null  int64 \n",
            " 12  INMSUPR               1048575 non-null  int64 \n",
            " 13  HIPERTENSION          1048575 non-null  int64 \n",
            " 14  OTHER_DISEASE         1048575 non-null  int64 \n",
            " 15  CARDIOVASCULAR        1048575 non-null  int64 \n",
            " 16  OBESITY               1048575 non-null  int64 \n",
            " 17  RENAL_CHRONIC         1048575 non-null  int64 \n",
            " 18  TOBACCO               1048575 non-null  int64 \n",
            " 19  CLASIFFICATION_FINAL  1048575 non-null  int64 \n",
            " 20  ICU                   1048575 non-null  int64 \n",
            "dtypes: int64(20), object(1)\n",
            "memory usage: 168.0+ MB\n"
          ]
        }
      ],
      "source": [
        "data.info()"
      ]
    },
    {
      "cell_type": "markdown",
      "metadata": {
        "id": "xGNquZyzuksC"
      },
      "source": [
        "It provides a summary of the data, including the data types, non-null value count and memory usage.\n",
        "According to this there is no null value in any of the column (i.e, total number of values in each column are equal to 1048575)\n",
        "\n",
        "Here it is showing we have no null values. We have no NaN values but we have missing values."
      ]
    },
    {
      "cell_type": "markdown",
      "metadata": {
        "id": "83tUGOXsJ4wZ"
      },
      "source": [
        "**TO SEE NUMBER OF UNIQUE VALUES IN EACH COLUMN**"
      ]
    },
    {
      "cell_type": "code",
      "execution_count": null,
      "metadata": {
        "colab": {
          "base_uri": "https://localhost:8080/"
        },
        "id": "w9xFe4hIMHNs",
        "outputId": "f4cf966a-2729-45d0-b25c-70db2ce713fb"
      },
      "outputs": [
        {
          "data": {
            "text/plain": [
              "USMER                     2\n",
              "MEDICAL_UNIT             13\n",
              "SEX                       2\n",
              "PATIENT_TYPE              2\n",
              "DATE_DIED               401\n",
              "INTUBED                   4\n",
              "PNEUMONIA                 3\n",
              "AGE                     121\n",
              "PREGNANT                  4\n",
              "DIABETES                  3\n",
              "COPD                      3\n",
              "ASTHMA                    3\n",
              "INMSUPR                   3\n",
              "HIPERTENSION              3\n",
              "OTHER_DISEASE             3\n",
              "CARDIOVASCULAR            3\n",
              "OBESITY                   3\n",
              "RENAL_CHRONIC             3\n",
              "TOBACCO                   3\n",
              "CLASIFFICATION_FINAL      7\n",
              "ICU                       4\n",
              "dtype: int64"
            ]
          },
          "execution_count": 10,
          "metadata": {},
          "output_type": "execute_result"
        }
      ],
      "source": [
        "data.nunique()"
      ]
    },
    {
      "cell_type": "markdown",
      "metadata": {
        "id": "SvyDUhonu9A-"
      },
      "source": [
        "It clearly shows column ***MEDICAL_UNIT*** with 13 unique values, ***DATA_DIED*** column with 401 unique values and ***AGE*** column with 121 unique values. So, these columns have continuous data, rest all the columns have categorical data.  "
      ]
    },
    {
      "cell_type": "markdown",
      "metadata": {
        "id": "0xT-IGewNIK0"
      },
      "source": [
        "**GET STATISTICAL SUMMARY OF DATASET**"
      ]
    },
    {
      "cell_type": "code",
      "execution_count": null,
      "metadata": {
        "colab": {
          "base_uri": "https://localhost:8080/",
          "height": 364
        },
        "id": "P-p8t8yeNKDZ",
        "outputId": "1913fb4e-e577-4899-b513-75b5607f2e21"
      },
      "outputs": [
        {
          "data": {
            "text/html": [
              "\n",
              "  <div id=\"df-8d027694-9d53-4f28-93e3-e7c5f0dbdc37\">\n",
              "    <div class=\"colab-df-container\">\n",
              "      <div>\n",
              "<style scoped>\n",
              "    .dataframe tbody tr th:only-of-type {\n",
              "        vertical-align: middle;\n",
              "    }\n",
              "\n",
              "    .dataframe tbody tr th {\n",
              "        vertical-align: top;\n",
              "    }\n",
              "\n",
              "    .dataframe thead th {\n",
              "        text-align: right;\n",
              "    }\n",
              "</style>\n",
              "<table border=\"1\" class=\"dataframe\">\n",
              "  <thead>\n",
              "    <tr style=\"text-align: right;\">\n",
              "      <th></th>\n",
              "      <th>USMER</th>\n",
              "      <th>MEDICAL_UNIT</th>\n",
              "      <th>SEX</th>\n",
              "      <th>PATIENT_TYPE</th>\n",
              "      <th>INTUBED</th>\n",
              "      <th>PNEUMONIA</th>\n",
              "      <th>AGE</th>\n",
              "      <th>PREGNANT</th>\n",
              "      <th>DIABETES</th>\n",
              "      <th>COPD</th>\n",
              "      <th>ASTHMA</th>\n",
              "      <th>INMSUPR</th>\n",
              "      <th>HIPERTENSION</th>\n",
              "      <th>OTHER_DISEASE</th>\n",
              "      <th>CARDIOVASCULAR</th>\n",
              "      <th>OBESITY</th>\n",
              "      <th>RENAL_CHRONIC</th>\n",
              "      <th>TOBACCO</th>\n",
              "      <th>CLASIFFICATION_FINAL</th>\n",
              "      <th>ICU</th>\n",
              "    </tr>\n",
              "  </thead>\n",
              "  <tbody>\n",
              "    <tr>\n",
              "      <th>count</th>\n",
              "      <td>1.048575e+06</td>\n",
              "      <td>1.048575e+06</td>\n",
              "      <td>1.048575e+06</td>\n",
              "      <td>1.048575e+06</td>\n",
              "      <td>1.048575e+06</td>\n",
              "      <td>1.048575e+06</td>\n",
              "      <td>1.048575e+06</td>\n",
              "      <td>1.048575e+06</td>\n",
              "      <td>1.048575e+06</td>\n",
              "      <td>1.048575e+06</td>\n",
              "      <td>1.048575e+06</td>\n",
              "      <td>1.048575e+06</td>\n",
              "      <td>1.048575e+06</td>\n",
              "      <td>1.048575e+06</td>\n",
              "      <td>1.048575e+06</td>\n",
              "      <td>1.048575e+06</td>\n",
              "      <td>1.048575e+06</td>\n",
              "      <td>1.048575e+06</td>\n",
              "      <td>1.048575e+06</td>\n",
              "      <td>1.048575e+06</td>\n",
              "    </tr>\n",
              "    <tr>\n",
              "      <th>mean</th>\n",
              "      <td>1.632194e+00</td>\n",
              "      <td>8.980565e+00</td>\n",
              "      <td>1.499259e+00</td>\n",
              "      <td>1.190765e+00</td>\n",
              "      <td>7.952288e+01</td>\n",
              "      <td>3.346831e+00</td>\n",
              "      <td>4.179410e+01</td>\n",
              "      <td>4.976558e+01</td>\n",
              "      <td>2.186404e+00</td>\n",
              "      <td>2.260569e+00</td>\n",
              "      <td>2.242626e+00</td>\n",
              "      <td>2.298132e+00</td>\n",
              "      <td>2.128989e+00</td>\n",
              "      <td>2.435143e+00</td>\n",
              "      <td>2.261810e+00</td>\n",
              "      <td>2.125176e+00</td>\n",
              "      <td>2.257180e+00</td>\n",
              "      <td>2.214333e+00</td>\n",
              "      <td>5.305653e+00</td>\n",
              "      <td>7.955397e+01</td>\n",
              "    </tr>\n",
              "    <tr>\n",
              "      <th>std</th>\n",
              "      <td>4.822084e-01</td>\n",
              "      <td>3.723278e+00</td>\n",
              "      <td>4.999997e-01</td>\n",
              "      <td>3.929041e-01</td>\n",
              "      <td>3.686889e+01</td>\n",
              "      <td>1.191288e+01</td>\n",
              "      <td>1.690739e+01</td>\n",
              "      <td>4.751073e+01</td>\n",
              "      <td>5.424242e+00</td>\n",
              "      <td>5.132258e+00</td>\n",
              "      <td>5.114089e+00</td>\n",
              "      <td>5.462843e+00</td>\n",
              "      <td>5.236397e+00</td>\n",
              "      <td>6.646676e+00</td>\n",
              "      <td>5.194850e+00</td>\n",
              "      <td>5.175445e+00</td>\n",
              "      <td>5.135354e+00</td>\n",
              "      <td>5.323097e+00</td>\n",
              "      <td>1.881165e+00</td>\n",
              "      <td>3.682307e+01</td>\n",
              "    </tr>\n",
              "    <tr>\n",
              "      <th>min</th>\n",
              "      <td>1.000000e+00</td>\n",
              "      <td>1.000000e+00</td>\n",
              "      <td>1.000000e+00</td>\n",
              "      <td>1.000000e+00</td>\n",
              "      <td>1.000000e+00</td>\n",
              "      <td>1.000000e+00</td>\n",
              "      <td>0.000000e+00</td>\n",
              "      <td>1.000000e+00</td>\n",
              "      <td>1.000000e+00</td>\n",
              "      <td>1.000000e+00</td>\n",
              "      <td>1.000000e+00</td>\n",
              "      <td>1.000000e+00</td>\n",
              "      <td>1.000000e+00</td>\n",
              "      <td>1.000000e+00</td>\n",
              "      <td>1.000000e+00</td>\n",
              "      <td>1.000000e+00</td>\n",
              "      <td>1.000000e+00</td>\n",
              "      <td>1.000000e+00</td>\n",
              "      <td>1.000000e+00</td>\n",
              "      <td>1.000000e+00</td>\n",
              "    </tr>\n",
              "    <tr>\n",
              "      <th>25%</th>\n",
              "      <td>1.000000e+00</td>\n",
              "      <td>4.000000e+00</td>\n",
              "      <td>1.000000e+00</td>\n",
              "      <td>1.000000e+00</td>\n",
              "      <td>9.700000e+01</td>\n",
              "      <td>2.000000e+00</td>\n",
              "      <td>3.000000e+01</td>\n",
              "      <td>2.000000e+00</td>\n",
              "      <td>2.000000e+00</td>\n",
              "      <td>2.000000e+00</td>\n",
              "      <td>2.000000e+00</td>\n",
              "      <td>2.000000e+00</td>\n",
              "      <td>2.000000e+00</td>\n",
              "      <td>2.000000e+00</td>\n",
              "      <td>2.000000e+00</td>\n",
              "      <td>2.000000e+00</td>\n",
              "      <td>2.000000e+00</td>\n",
              "      <td>2.000000e+00</td>\n",
              "      <td>3.000000e+00</td>\n",
              "      <td>9.700000e+01</td>\n",
              "    </tr>\n",
              "    <tr>\n",
              "      <th>50%</th>\n",
              "      <td>2.000000e+00</td>\n",
              "      <td>1.200000e+01</td>\n",
              "      <td>1.000000e+00</td>\n",
              "      <td>1.000000e+00</td>\n",
              "      <td>9.700000e+01</td>\n",
              "      <td>2.000000e+00</td>\n",
              "      <td>4.000000e+01</td>\n",
              "      <td>9.700000e+01</td>\n",
              "      <td>2.000000e+00</td>\n",
              "      <td>2.000000e+00</td>\n",
              "      <td>2.000000e+00</td>\n",
              "      <td>2.000000e+00</td>\n",
              "      <td>2.000000e+00</td>\n",
              "      <td>2.000000e+00</td>\n",
              "      <td>2.000000e+00</td>\n",
              "      <td>2.000000e+00</td>\n",
              "      <td>2.000000e+00</td>\n",
              "      <td>2.000000e+00</td>\n",
              "      <td>6.000000e+00</td>\n",
              "      <td>9.700000e+01</td>\n",
              "    </tr>\n",
              "    <tr>\n",
              "      <th>75%</th>\n",
              "      <td>2.000000e+00</td>\n",
              "      <td>1.200000e+01</td>\n",
              "      <td>2.000000e+00</td>\n",
              "      <td>1.000000e+00</td>\n",
              "      <td>9.700000e+01</td>\n",
              "      <td>2.000000e+00</td>\n",
              "      <td>5.300000e+01</td>\n",
              "      <td>9.700000e+01</td>\n",
              "      <td>2.000000e+00</td>\n",
              "      <td>2.000000e+00</td>\n",
              "      <td>2.000000e+00</td>\n",
              "      <td>2.000000e+00</td>\n",
              "      <td>2.000000e+00</td>\n",
              "      <td>2.000000e+00</td>\n",
              "      <td>2.000000e+00</td>\n",
              "      <td>2.000000e+00</td>\n",
              "      <td>2.000000e+00</td>\n",
              "      <td>2.000000e+00</td>\n",
              "      <td>7.000000e+00</td>\n",
              "      <td>9.700000e+01</td>\n",
              "    </tr>\n",
              "    <tr>\n",
              "      <th>max</th>\n",
              "      <td>2.000000e+00</td>\n",
              "      <td>1.300000e+01</td>\n",
              "      <td>2.000000e+00</td>\n",
              "      <td>2.000000e+00</td>\n",
              "      <td>9.900000e+01</td>\n",
              "      <td>9.900000e+01</td>\n",
              "      <td>1.210000e+02</td>\n",
              "      <td>9.800000e+01</td>\n",
              "      <td>9.800000e+01</td>\n",
              "      <td>9.800000e+01</td>\n",
              "      <td>9.800000e+01</td>\n",
              "      <td>9.800000e+01</td>\n",
              "      <td>9.800000e+01</td>\n",
              "      <td>9.800000e+01</td>\n",
              "      <td>9.800000e+01</td>\n",
              "      <td>9.800000e+01</td>\n",
              "      <td>9.800000e+01</td>\n",
              "      <td>9.800000e+01</td>\n",
              "      <td>7.000000e+00</td>\n",
              "      <td>9.900000e+01</td>\n",
              "    </tr>\n",
              "  </tbody>\n",
              "</table>\n",
              "</div>\n",
              "      <button class=\"colab-df-convert\" onclick=\"convertToInteractive('df-8d027694-9d53-4f28-93e3-e7c5f0dbdc37')\"\n",
              "              title=\"Convert this dataframe to an interactive table.\"\n",
              "              style=\"display:none;\">\n",
              "        \n",
              "  <svg xmlns=\"http://www.w3.org/2000/svg\" height=\"24px\"viewBox=\"0 0 24 24\"\n",
              "       width=\"24px\">\n",
              "    <path d=\"M0 0h24v24H0V0z\" fill=\"none\"/>\n",
              "    <path d=\"M18.56 5.44l.94 2.06.94-2.06 2.06-.94-2.06-.94-.94-2.06-.94 2.06-2.06.94zm-11 1L8.5 8.5l.94-2.06 2.06-.94-2.06-.94L8.5 2.5l-.94 2.06-2.06.94zm10 10l.94 2.06.94-2.06 2.06-.94-2.06-.94-.94-2.06-.94 2.06-2.06.94z\"/><path d=\"M17.41 7.96l-1.37-1.37c-.4-.4-.92-.59-1.43-.59-.52 0-1.04.2-1.43.59L10.3 9.45l-7.72 7.72c-.78.78-.78 2.05 0 2.83L4 21.41c.39.39.9.59 1.41.59.51 0 1.02-.2 1.41-.59l7.78-7.78 2.81-2.81c.8-.78.8-2.07 0-2.86zM5.41 20L4 18.59l7.72-7.72 1.47 1.35L5.41 20z\"/>\n",
              "  </svg>\n",
              "      </button>\n",
              "      \n",
              "  <style>\n",
              "    .colab-df-container {\n",
              "      display:flex;\n",
              "      flex-wrap:wrap;\n",
              "      gap: 12px;\n",
              "    }\n",
              "\n",
              "    .colab-df-convert {\n",
              "      background-color: #E8F0FE;\n",
              "      border: none;\n",
              "      border-radius: 50%;\n",
              "      cursor: pointer;\n",
              "      display: none;\n",
              "      fill: #1967D2;\n",
              "      height: 32px;\n",
              "      padding: 0 0 0 0;\n",
              "      width: 32px;\n",
              "    }\n",
              "\n",
              "    .colab-df-convert:hover {\n",
              "      background-color: #E2EBFA;\n",
              "      box-shadow: 0px 1px 2px rgba(60, 64, 67, 0.3), 0px 1px 3px 1px rgba(60, 64, 67, 0.15);\n",
              "      fill: #174EA6;\n",
              "    }\n",
              "\n",
              "    [theme=dark] .colab-df-convert {\n",
              "      background-color: #3B4455;\n",
              "      fill: #D2E3FC;\n",
              "    }\n",
              "\n",
              "    [theme=dark] .colab-df-convert:hover {\n",
              "      background-color: #434B5C;\n",
              "      box-shadow: 0px 1px 3px 1px rgba(0, 0, 0, 0.15);\n",
              "      filter: drop-shadow(0px 1px 2px rgba(0, 0, 0, 0.3));\n",
              "      fill: #FFFFFF;\n",
              "    }\n",
              "  </style>\n",
              "\n",
              "      <script>\n",
              "        const buttonEl =\n",
              "          document.querySelector('#df-8d027694-9d53-4f28-93e3-e7c5f0dbdc37 button.colab-df-convert');\n",
              "        buttonEl.style.display =\n",
              "          google.colab.kernel.accessAllowed ? 'block' : 'none';\n",
              "\n",
              "        async function convertToInteractive(key) {\n",
              "          const element = document.querySelector('#df-8d027694-9d53-4f28-93e3-e7c5f0dbdc37');\n",
              "          const dataTable =\n",
              "            await google.colab.kernel.invokeFunction('convertToInteractive',\n",
              "                                                     [key], {});\n",
              "          if (!dataTable) return;\n",
              "\n",
              "          const docLinkHtml = 'Like what you see? Visit the ' +\n",
              "            '<a target=\"_blank\" href=https://colab.research.google.com/notebooks/data_table.ipynb>data table notebook</a>'\n",
              "            + ' to learn more about interactive tables.';\n",
              "          element.innerHTML = '';\n",
              "          dataTable['output_type'] = 'display_data';\n",
              "          await google.colab.output.renderOutput(dataTable, element);\n",
              "          const docLink = document.createElement('div');\n",
              "          docLink.innerHTML = docLinkHtml;\n",
              "          element.appendChild(docLink);\n",
              "        }\n",
              "      </script>\n",
              "    </div>\n",
              "  </div>\n",
              "  "
            ],
            "text/plain": [
              "              USMER  MEDICAL_UNIT           SEX  PATIENT_TYPE       INTUBED  \\\n",
              "count  1.048575e+06  1.048575e+06  1.048575e+06  1.048575e+06  1.048575e+06   \n",
              "mean   1.632194e+00  8.980565e+00  1.499259e+00  1.190765e+00  7.952288e+01   \n",
              "std    4.822084e-01  3.723278e+00  4.999997e-01  3.929041e-01  3.686889e+01   \n",
              "min    1.000000e+00  1.000000e+00  1.000000e+00  1.000000e+00  1.000000e+00   \n",
              "25%    1.000000e+00  4.000000e+00  1.000000e+00  1.000000e+00  9.700000e+01   \n",
              "50%    2.000000e+00  1.200000e+01  1.000000e+00  1.000000e+00  9.700000e+01   \n",
              "75%    2.000000e+00  1.200000e+01  2.000000e+00  1.000000e+00  9.700000e+01   \n",
              "max    2.000000e+00  1.300000e+01  2.000000e+00  2.000000e+00  9.900000e+01   \n",
              "\n",
              "          PNEUMONIA           AGE      PREGNANT      DIABETES          COPD  \\\n",
              "count  1.048575e+06  1.048575e+06  1.048575e+06  1.048575e+06  1.048575e+06   \n",
              "mean   3.346831e+00  4.179410e+01  4.976558e+01  2.186404e+00  2.260569e+00   \n",
              "std    1.191288e+01  1.690739e+01  4.751073e+01  5.424242e+00  5.132258e+00   \n",
              "min    1.000000e+00  0.000000e+00  1.000000e+00  1.000000e+00  1.000000e+00   \n",
              "25%    2.000000e+00  3.000000e+01  2.000000e+00  2.000000e+00  2.000000e+00   \n",
              "50%    2.000000e+00  4.000000e+01  9.700000e+01  2.000000e+00  2.000000e+00   \n",
              "75%    2.000000e+00  5.300000e+01  9.700000e+01  2.000000e+00  2.000000e+00   \n",
              "max    9.900000e+01  1.210000e+02  9.800000e+01  9.800000e+01  9.800000e+01   \n",
              "\n",
              "             ASTHMA       INMSUPR  HIPERTENSION  OTHER_DISEASE  \\\n",
              "count  1.048575e+06  1.048575e+06  1.048575e+06   1.048575e+06   \n",
              "mean   2.242626e+00  2.298132e+00  2.128989e+00   2.435143e+00   \n",
              "std    5.114089e+00  5.462843e+00  5.236397e+00   6.646676e+00   \n",
              "min    1.000000e+00  1.000000e+00  1.000000e+00   1.000000e+00   \n",
              "25%    2.000000e+00  2.000000e+00  2.000000e+00   2.000000e+00   \n",
              "50%    2.000000e+00  2.000000e+00  2.000000e+00   2.000000e+00   \n",
              "75%    2.000000e+00  2.000000e+00  2.000000e+00   2.000000e+00   \n",
              "max    9.800000e+01  9.800000e+01  9.800000e+01   9.800000e+01   \n",
              "\n",
              "       CARDIOVASCULAR       OBESITY  RENAL_CHRONIC       TOBACCO  \\\n",
              "count    1.048575e+06  1.048575e+06   1.048575e+06  1.048575e+06   \n",
              "mean     2.261810e+00  2.125176e+00   2.257180e+00  2.214333e+00   \n",
              "std      5.194850e+00  5.175445e+00   5.135354e+00  5.323097e+00   \n",
              "min      1.000000e+00  1.000000e+00   1.000000e+00  1.000000e+00   \n",
              "25%      2.000000e+00  2.000000e+00   2.000000e+00  2.000000e+00   \n",
              "50%      2.000000e+00  2.000000e+00   2.000000e+00  2.000000e+00   \n",
              "75%      2.000000e+00  2.000000e+00   2.000000e+00  2.000000e+00   \n",
              "max      9.800000e+01  9.800000e+01   9.800000e+01  9.800000e+01   \n",
              "\n",
              "       CLASIFFICATION_FINAL           ICU  \n",
              "count          1.048575e+06  1.048575e+06  \n",
              "mean           5.305653e+00  7.955397e+01  \n",
              "std            1.881165e+00  3.682307e+01  \n",
              "min            1.000000e+00  1.000000e+00  \n",
              "25%            3.000000e+00  9.700000e+01  \n",
              "50%            6.000000e+00  9.700000e+01  \n",
              "75%            7.000000e+00  9.700000e+01  \n",
              "max            7.000000e+00  9.900000e+01  "
            ]
          },
          "execution_count": 11,
          "metadata": {},
          "output_type": "execute_result"
        }
      ],
      "source": [
        "data.describe()"
      ]
    },
    {
      "cell_type": "markdown",
      "metadata": {
        "id": "iGgg-9tUugLs"
      },
      "source": [
        " It provides descriptive statistics for each column in the data. It gives summary of the central tendency, dispersion and shape of the distribution of each column's values."
      ]
    },
    {
      "cell_type": "code",
      "execution_count": null,
      "metadata": {
        "colab": {
          "base_uri": "https://localhost:8080/",
          "height": 776
        },
        "id": "t6MUdojHNVJy",
        "outputId": "4e1e60dd-286e-4c8c-f59f-1621f64f386c"
      },
      "outputs": [
        {
          "name": "stderr",
          "output_type": "stream",
          "text": [
            "<ipython-input-12-c44ded798807>:1: FutureWarning: The default value of numeric_only in DataFrame.corr is deprecated. In a future version, it will default to False. Select only valid columns or specify the value of numeric_only to silence this warning.\n",
            "  data.corr()\n"
          ]
        },
        {
          "data": {
            "text/html": [
              "\n",
              "  <div id=\"df-20a87ae7-bef9-4940-b7a9-2258ab08acb8\">\n",
              "    <div class=\"colab-df-container\">\n",
              "      <div>\n",
              "<style scoped>\n",
              "    .dataframe tbody tr th:only-of-type {\n",
              "        vertical-align: middle;\n",
              "    }\n",
              "\n",
              "    .dataframe tbody tr th {\n",
              "        vertical-align: top;\n",
              "    }\n",
              "\n",
              "    .dataframe thead th {\n",
              "        text-align: right;\n",
              "    }\n",
              "</style>\n",
              "<table border=\"1\" class=\"dataframe\">\n",
              "  <thead>\n",
              "    <tr style=\"text-align: right;\">\n",
              "      <th></th>\n",
              "      <th>USMER</th>\n",
              "      <th>MEDICAL_UNIT</th>\n",
              "      <th>SEX</th>\n",
              "      <th>PATIENT_TYPE</th>\n",
              "      <th>INTUBED</th>\n",
              "      <th>PNEUMONIA</th>\n",
              "      <th>AGE</th>\n",
              "      <th>PREGNANT</th>\n",
              "      <th>DIABETES</th>\n",
              "      <th>COPD</th>\n",
              "      <th>ASTHMA</th>\n",
              "      <th>INMSUPR</th>\n",
              "      <th>HIPERTENSION</th>\n",
              "      <th>OTHER_DISEASE</th>\n",
              "      <th>CARDIOVASCULAR</th>\n",
              "      <th>OBESITY</th>\n",
              "      <th>RENAL_CHRONIC</th>\n",
              "      <th>TOBACCO</th>\n",
              "      <th>CLASIFFICATION_FINAL</th>\n",
              "      <th>ICU</th>\n",
              "    </tr>\n",
              "  </thead>\n",
              "  <tbody>\n",
              "    <tr>\n",
              "      <th>USMER</th>\n",
              "      <td>1.000000</td>\n",
              "      <td>0.127927</td>\n",
              "      <td>-0.001126</td>\n",
              "      <td>-0.190570</td>\n",
              "      <td>0.175457</td>\n",
              "      <td>-0.154950</td>\n",
              "      <td>-0.045088</td>\n",
              "      <td>-0.001469</td>\n",
              "      <td>0.014704</td>\n",
              "      <td>0.011030</td>\n",
              "      <td>0.010814</td>\n",
              "      <td>0.003234</td>\n",
              "      <td>0.014830</td>\n",
              "      <td>-0.015763</td>\n",
              "      <td>0.010097</td>\n",
              "      <td>0.014567</td>\n",
              "      <td>0.011527</td>\n",
              "      <td>0.010638</td>\n",
              "      <td>0.028840</td>\n",
              "      <td>0.174901</td>\n",
              "    </tr>\n",
              "    <tr>\n",
              "      <th>MEDICAL_UNIT</th>\n",
              "      <td>0.127927</td>\n",
              "      <td>1.000000</td>\n",
              "      <td>0.001475</td>\n",
              "      <td>-0.205413</td>\n",
              "      <td>0.205243</td>\n",
              "      <td>-0.046433</td>\n",
              "      <td>-0.082223</td>\n",
              "      <td>0.005300</td>\n",
              "      <td>0.019523</td>\n",
              "      <td>0.014209</td>\n",
              "      <td>0.013312</td>\n",
              "      <td>0.011785</td>\n",
              "      <td>0.020964</td>\n",
              "      <td>0.027453</td>\n",
              "      <td>0.014406</td>\n",
              "      <td>0.019577</td>\n",
              "      <td>0.014751</td>\n",
              "      <td>0.012282</td>\n",
              "      <td>0.079981</td>\n",
              "      <td>0.205141</td>\n",
              "    </tr>\n",
              "    <tr>\n",
              "      <th>SEX</th>\n",
              "      <td>-0.001126</td>\n",
              "      <td>0.001475</td>\n",
              "      <td>1.000000</td>\n",
              "      <td>0.089505</td>\n",
              "      <td>-0.089943</td>\n",
              "      <td>-0.012131</td>\n",
              "      <td>0.028367</td>\n",
              "      <td>0.992713</td>\n",
              "      <td>0.008888</td>\n",
              "      <td>0.009372</td>\n",
              "      <td>0.010415</td>\n",
              "      <td>0.007999</td>\n",
              "      <td>0.009257</td>\n",
              "      <td>0.009039</td>\n",
              "      <td>0.008174</td>\n",
              "      <td>0.009858</td>\n",
              "      <td>0.008249</td>\n",
              "      <td>0.004919</td>\n",
              "      <td>-0.057782</td>\n",
              "      <td>-0.089844</td>\n",
              "    </tr>\n",
              "    <tr>\n",
              "      <th>PATIENT_TYPE</th>\n",
              "      <td>-0.190570</td>\n",
              "      <td>-0.205413</td>\n",
              "      <td>0.089505</td>\n",
              "      <td>1.000000</td>\n",
              "      <td>-0.976335</td>\n",
              "      <td>0.022966</td>\n",
              "      <td>0.315193</td>\n",
              "      <td>0.088340</td>\n",
              "      <td>0.008743</td>\n",
              "      <td>0.019548</td>\n",
              "      <td>0.023042</td>\n",
              "      <td>0.024924</td>\n",
              "      <td>0.006852</td>\n",
              "      <td>0.036724</td>\n",
              "      <td>0.022175</td>\n",
              "      <td>0.019650</td>\n",
              "      <td>0.018873</td>\n",
              "      <td>0.022123</td>\n",
              "      <td>-0.183370</td>\n",
              "      <td>-0.975810</td>\n",
              "    </tr>\n",
              "    <tr>\n",
              "      <th>INTUBED</th>\n",
              "      <td>0.175457</td>\n",
              "      <td>0.205243</td>\n",
              "      <td>-0.089943</td>\n",
              "      <td>-0.976335</td>\n",
              "      <td>1.000000</td>\n",
              "      <td>0.079743</td>\n",
              "      <td>-0.317945</td>\n",
              "      <td>-0.088097</td>\n",
              "      <td>-0.009215</td>\n",
              "      <td>-0.020124</td>\n",
              "      <td>-0.023446</td>\n",
              "      <td>-0.024140</td>\n",
              "      <td>-0.007628</td>\n",
              "      <td>-0.035404</td>\n",
              "      <td>-0.022442</td>\n",
              "      <td>-0.020217</td>\n",
              "      <td>-0.019309</td>\n",
              "      <td>-0.022428</td>\n",
              "      <td>0.193075</td>\n",
              "      <td>0.999434</td>\n",
              "    </tr>\n",
              "    <tr>\n",
              "      <th>PNEUMONIA</th>\n",
              "      <td>-0.154950</td>\n",
              "      <td>-0.046433</td>\n",
              "      <td>-0.012131</td>\n",
              "      <td>0.022966</td>\n",
              "      <td>0.079743</td>\n",
              "      <td>1.000000</td>\n",
              "      <td>-0.073127</td>\n",
              "      <td>-0.007284</td>\n",
              "      <td>-0.004484</td>\n",
              "      <td>-0.005618</td>\n",
              "      <td>-0.005392</td>\n",
              "      <td>-0.000802</td>\n",
              "      <td>-0.004799</td>\n",
              "      <td>0.001612</td>\n",
              "      <td>-0.004758</td>\n",
              "      <td>-0.004276</td>\n",
              "      <td>-0.005287</td>\n",
              "      <td>-0.004325</td>\n",
              "      <td>0.075351</td>\n",
              "      <td>0.079691</td>\n",
              "    </tr>\n",
              "    <tr>\n",
              "      <th>AGE</th>\n",
              "      <td>-0.045088</td>\n",
              "      <td>-0.082223</td>\n",
              "      <td>0.028367</td>\n",
              "      <td>0.315193</td>\n",
              "      <td>-0.317945</td>\n",
              "      <td>-0.073127</td>\n",
              "      <td>1.000000</td>\n",
              "      <td>0.027257</td>\n",
              "      <td>0.004422</td>\n",
              "      <td>0.019048</td>\n",
              "      <td>0.022715</td>\n",
              "      <td>0.022820</td>\n",
              "      <td>-0.004964</td>\n",
              "      <td>0.022837</td>\n",
              "      <td>0.019489</td>\n",
              "      <td>0.015500</td>\n",
              "      <td>0.020124</td>\n",
              "      <td>0.021263</td>\n",
              "      <td>-0.152637</td>\n",
              "      <td>-0.317813</td>\n",
              "    </tr>\n",
              "    <tr>\n",
              "      <th>PREGNANT</th>\n",
              "      <td>-0.001469</td>\n",
              "      <td>0.005300</td>\n",
              "      <td>0.992713</td>\n",
              "      <td>0.088340</td>\n",
              "      <td>-0.088097</td>\n",
              "      <td>-0.007284</td>\n",
              "      <td>0.027257</td>\n",
              "      <td>1.000000</td>\n",
              "      <td>0.014707</td>\n",
              "      <td>0.015736</td>\n",
              "      <td>0.016765</td>\n",
              "      <td>0.014265</td>\n",
              "      <td>0.015335</td>\n",
              "      <td>0.014175</td>\n",
              "      <td>0.014378</td>\n",
              "      <td>0.015895</td>\n",
              "      <td>0.014392</td>\n",
              "      <td>0.010794</td>\n",
              "      <td>-0.057809</td>\n",
              "      <td>-0.087991</td>\n",
              "    </tr>\n",
              "    <tr>\n",
              "      <th>DIABETES</th>\n",
              "      <td>0.014704</td>\n",
              "      <td>0.019523</td>\n",
              "      <td>0.008888</td>\n",
              "      <td>0.008743</td>\n",
              "      <td>-0.009215</td>\n",
              "      <td>-0.004484</td>\n",
              "      <td>0.004422</td>\n",
              "      <td>0.014707</td>\n",
              "      <td>1.000000</td>\n",
              "      <td>0.828823</td>\n",
              "      <td>0.829349</td>\n",
              "      <td>0.781108</td>\n",
              "      <td>0.835018</td>\n",
              "      <td>0.634611</td>\n",
              "      <td>0.809417</td>\n",
              "      <td>0.752739</td>\n",
              "      <td>0.812657</td>\n",
              "      <td>0.771763</td>\n",
              "      <td>-0.004739</td>\n",
              "      <td>-0.009223</td>\n",
              "    </tr>\n",
              "    <tr>\n",
              "      <th>COPD</th>\n",
              "      <td>0.011030</td>\n",
              "      <td>0.014209</td>\n",
              "      <td>0.009372</td>\n",
              "      <td>0.019548</td>\n",
              "      <td>-0.020124</td>\n",
              "      <td>-0.005618</td>\n",
              "      <td>0.019048</td>\n",
              "      <td>0.015736</td>\n",
              "      <td>0.828823</td>\n",
              "      <td>1.000000</td>\n",
              "      <td>0.908929</td>\n",
              "      <td>0.852273</td>\n",
              "      <td>0.855249</td>\n",
              "      <td>0.687323</td>\n",
              "      <td>0.880097</td>\n",
              "      <td>0.814868</td>\n",
              "      <td>0.884032</td>\n",
              "      <td>0.836097</td>\n",
              "      <td>-0.010336</td>\n",
              "      <td>-0.020146</td>\n",
              "    </tr>\n",
              "    <tr>\n",
              "      <th>ASTHMA</th>\n",
              "      <td>0.010814</td>\n",
              "      <td>0.013312</td>\n",
              "      <td>0.010415</td>\n",
              "      <td>0.023042</td>\n",
              "      <td>-0.023446</td>\n",
              "      <td>-0.005392</td>\n",
              "      <td>0.022715</td>\n",
              "      <td>0.016765</td>\n",
              "      <td>0.829349</td>\n",
              "      <td>0.908929</td>\n",
              "      <td>1.000000</td>\n",
              "      <td>0.868917</td>\n",
              "      <td>0.864264</td>\n",
              "      <td>0.696709</td>\n",
              "      <td>0.891026</td>\n",
              "      <td>0.824631</td>\n",
              "      <td>0.895050</td>\n",
              "      <td>0.845067</td>\n",
              "      <td>-0.011178</td>\n",
              "      <td>-0.023415</td>\n",
              "    </tr>\n",
              "    <tr>\n",
              "      <th>INMSUPR</th>\n",
              "      <td>0.003234</td>\n",
              "      <td>0.011785</td>\n",
              "      <td>0.007999</td>\n",
              "      <td>0.024924</td>\n",
              "      <td>-0.024140</td>\n",
              "      <td>-0.000802</td>\n",
              "      <td>0.022820</td>\n",
              "      <td>0.014265</td>\n",
              "      <td>0.781108</td>\n",
              "      <td>0.852273</td>\n",
              "      <td>0.868917</td>\n",
              "      <td>1.000000</td>\n",
              "      <td>0.825158</td>\n",
              "      <td>0.734826</td>\n",
              "      <td>0.853365</td>\n",
              "      <td>0.783953</td>\n",
              "      <td>0.852755</td>\n",
              "      <td>0.806749</td>\n",
              "      <td>-0.009412</td>\n",
              "      <td>-0.024077</td>\n",
              "    </tr>\n",
              "    <tr>\n",
              "      <th>HIPERTENSION</th>\n",
              "      <td>0.014830</td>\n",
              "      <td>0.020964</td>\n",
              "      <td>0.009257</td>\n",
              "      <td>0.006852</td>\n",
              "      <td>-0.007628</td>\n",
              "      <td>-0.004799</td>\n",
              "      <td>-0.004964</td>\n",
              "      <td>0.015335</td>\n",
              "      <td>0.835018</td>\n",
              "      <td>0.855249</td>\n",
              "      <td>0.864264</td>\n",
              "      <td>0.825158</td>\n",
              "      <td>1.000000</td>\n",
              "      <td>0.671532</td>\n",
              "      <td>0.861063</td>\n",
              "      <td>0.805127</td>\n",
              "      <td>0.860477</td>\n",
              "      <td>0.816539</td>\n",
              "      <td>-0.006020</td>\n",
              "      <td>-0.007573</td>\n",
              "    </tr>\n",
              "    <tr>\n",
              "      <th>OTHER_DISEASE</th>\n",
              "      <td>-0.015763</td>\n",
              "      <td>0.027453</td>\n",
              "      <td>0.009039</td>\n",
              "      <td>0.036724</td>\n",
              "      <td>-0.035404</td>\n",
              "      <td>0.001612</td>\n",
              "      <td>0.022837</td>\n",
              "      <td>0.014175</td>\n",
              "      <td>0.634611</td>\n",
              "      <td>0.687323</td>\n",
              "      <td>0.696709</td>\n",
              "      <td>0.734826</td>\n",
              "      <td>0.671532</td>\n",
              "      <td>1.000000</td>\n",
              "      <td>0.717129</td>\n",
              "      <td>0.649809</td>\n",
              "      <td>0.704725</td>\n",
              "      <td>0.668621</td>\n",
              "      <td>-0.011143</td>\n",
              "      <td>-0.035330</td>\n",
              "    </tr>\n",
              "    <tr>\n",
              "      <th>CARDIOVASCULAR</th>\n",
              "      <td>0.010097</td>\n",
              "      <td>0.014406</td>\n",
              "      <td>0.008174</td>\n",
              "      <td>0.022175</td>\n",
              "      <td>-0.022442</td>\n",
              "      <td>-0.004758</td>\n",
              "      <td>0.019489</td>\n",
              "      <td>0.014378</td>\n",
              "      <td>0.809417</td>\n",
              "      <td>0.880097</td>\n",
              "      <td>0.891026</td>\n",
              "      <td>0.853365</td>\n",
              "      <td>0.861063</td>\n",
              "      <td>0.717129</td>\n",
              "      <td>1.000000</td>\n",
              "      <td>0.834389</td>\n",
              "      <td>0.913248</td>\n",
              "      <td>0.858102</td>\n",
              "      <td>-0.012143</td>\n",
              "      <td>-0.022413</td>\n",
              "    </tr>\n",
              "    <tr>\n",
              "      <th>OBESITY</th>\n",
              "      <td>0.014567</td>\n",
              "      <td>0.019577</td>\n",
              "      <td>0.009858</td>\n",
              "      <td>0.019650</td>\n",
              "      <td>-0.020217</td>\n",
              "      <td>-0.004276</td>\n",
              "      <td>0.015500</td>\n",
              "      <td>0.015895</td>\n",
              "      <td>0.752739</td>\n",
              "      <td>0.814868</td>\n",
              "      <td>0.824631</td>\n",
              "      <td>0.783953</td>\n",
              "      <td>0.805127</td>\n",
              "      <td>0.649809</td>\n",
              "      <td>0.834389</td>\n",
              "      <td>1.000000</td>\n",
              "      <td>0.842466</td>\n",
              "      <td>0.801834</td>\n",
              "      <td>-0.006924</td>\n",
              "      <td>-0.020254</td>\n",
              "    </tr>\n",
              "    <tr>\n",
              "      <th>RENAL_CHRONIC</th>\n",
              "      <td>0.011527</td>\n",
              "      <td>0.014751</td>\n",
              "      <td>0.008249</td>\n",
              "      <td>0.018873</td>\n",
              "      <td>-0.019309</td>\n",
              "      <td>-0.005287</td>\n",
              "      <td>0.020124</td>\n",
              "      <td>0.014392</td>\n",
              "      <td>0.812657</td>\n",
              "      <td>0.884032</td>\n",
              "      <td>0.895050</td>\n",
              "      <td>0.852755</td>\n",
              "      <td>0.860477</td>\n",
              "      <td>0.704725</td>\n",
              "      <td>0.913248</td>\n",
              "      <td>0.842466</td>\n",
              "      <td>1.000000</td>\n",
              "      <td>0.868761</td>\n",
              "      <td>-0.011342</td>\n",
              "      <td>-0.019285</td>\n",
              "    </tr>\n",
              "    <tr>\n",
              "      <th>TOBACCO</th>\n",
              "      <td>0.010638</td>\n",
              "      <td>0.012282</td>\n",
              "      <td>0.004919</td>\n",
              "      <td>0.022123</td>\n",
              "      <td>-0.022428</td>\n",
              "      <td>-0.004325</td>\n",
              "      <td>0.021263</td>\n",
              "      <td>0.010794</td>\n",
              "      <td>0.771763</td>\n",
              "      <td>0.836097</td>\n",
              "      <td>0.845067</td>\n",
              "      <td>0.806749</td>\n",
              "      <td>0.816539</td>\n",
              "      <td>0.668621</td>\n",
              "      <td>0.858102</td>\n",
              "      <td>0.801834</td>\n",
              "      <td>0.868761</td>\n",
              "      <td>1.000000</td>\n",
              "      <td>-0.012567</td>\n",
              "      <td>-0.022445</td>\n",
              "    </tr>\n",
              "    <tr>\n",
              "      <th>CLASIFFICATION_FINAL</th>\n",
              "      <td>0.028840</td>\n",
              "      <td>0.079981</td>\n",
              "      <td>-0.057782</td>\n",
              "      <td>-0.183370</td>\n",
              "      <td>0.193075</td>\n",
              "      <td>0.075351</td>\n",
              "      <td>-0.152637</td>\n",
              "      <td>-0.057809</td>\n",
              "      <td>-0.004739</td>\n",
              "      <td>-0.010336</td>\n",
              "      <td>-0.011178</td>\n",
              "      <td>-0.009412</td>\n",
              "      <td>-0.006020</td>\n",
              "      <td>-0.011143</td>\n",
              "      <td>-0.012143</td>\n",
              "      <td>-0.006924</td>\n",
              "      <td>-0.011342</td>\n",
              "      <td>-0.012567</td>\n",
              "      <td>1.000000</td>\n",
              "      <td>0.193163</td>\n",
              "    </tr>\n",
              "    <tr>\n",
              "      <th>ICU</th>\n",
              "      <td>0.174901</td>\n",
              "      <td>0.205141</td>\n",
              "      <td>-0.089844</td>\n",
              "      <td>-0.975810</td>\n",
              "      <td>0.999434</td>\n",
              "      <td>0.079691</td>\n",
              "      <td>-0.317813</td>\n",
              "      <td>-0.087991</td>\n",
              "      <td>-0.009223</td>\n",
              "      <td>-0.020146</td>\n",
              "      <td>-0.023415</td>\n",
              "      <td>-0.024077</td>\n",
              "      <td>-0.007573</td>\n",
              "      <td>-0.035330</td>\n",
              "      <td>-0.022413</td>\n",
              "      <td>-0.020254</td>\n",
              "      <td>-0.019285</td>\n",
              "      <td>-0.022445</td>\n",
              "      <td>0.193163</td>\n",
              "      <td>1.000000</td>\n",
              "    </tr>\n",
              "  </tbody>\n",
              "</table>\n",
              "</div>\n",
              "      <button class=\"colab-df-convert\" onclick=\"convertToInteractive('df-20a87ae7-bef9-4940-b7a9-2258ab08acb8')\"\n",
              "              title=\"Convert this dataframe to an interactive table.\"\n",
              "              style=\"display:none;\">\n",
              "        \n",
              "  <svg xmlns=\"http://www.w3.org/2000/svg\" height=\"24px\"viewBox=\"0 0 24 24\"\n",
              "       width=\"24px\">\n",
              "    <path d=\"M0 0h24v24H0V0z\" fill=\"none\"/>\n",
              "    <path d=\"M18.56 5.44l.94 2.06.94-2.06 2.06-.94-2.06-.94-.94-2.06-.94 2.06-2.06.94zm-11 1L8.5 8.5l.94-2.06 2.06-.94-2.06-.94L8.5 2.5l-.94 2.06-2.06.94zm10 10l.94 2.06.94-2.06 2.06-.94-2.06-.94-.94-2.06-.94 2.06-2.06.94z\"/><path d=\"M17.41 7.96l-1.37-1.37c-.4-.4-.92-.59-1.43-.59-.52 0-1.04.2-1.43.59L10.3 9.45l-7.72 7.72c-.78.78-.78 2.05 0 2.83L4 21.41c.39.39.9.59 1.41.59.51 0 1.02-.2 1.41-.59l7.78-7.78 2.81-2.81c.8-.78.8-2.07 0-2.86zM5.41 20L4 18.59l7.72-7.72 1.47 1.35L5.41 20z\"/>\n",
              "  </svg>\n",
              "      </button>\n",
              "      \n",
              "  <style>\n",
              "    .colab-df-container {\n",
              "      display:flex;\n",
              "      flex-wrap:wrap;\n",
              "      gap: 12px;\n",
              "    }\n",
              "\n",
              "    .colab-df-convert {\n",
              "      background-color: #E8F0FE;\n",
              "      border: none;\n",
              "      border-radius: 50%;\n",
              "      cursor: pointer;\n",
              "      display: none;\n",
              "      fill: #1967D2;\n",
              "      height: 32px;\n",
              "      padding: 0 0 0 0;\n",
              "      width: 32px;\n",
              "    }\n",
              "\n",
              "    .colab-df-convert:hover {\n",
              "      background-color: #E2EBFA;\n",
              "      box-shadow: 0px 1px 2px rgba(60, 64, 67, 0.3), 0px 1px 3px 1px rgba(60, 64, 67, 0.15);\n",
              "      fill: #174EA6;\n",
              "    }\n",
              "\n",
              "    [theme=dark] .colab-df-convert {\n",
              "      background-color: #3B4455;\n",
              "      fill: #D2E3FC;\n",
              "    }\n",
              "\n",
              "    [theme=dark] .colab-df-convert:hover {\n",
              "      background-color: #434B5C;\n",
              "      box-shadow: 0px 1px 3px 1px rgba(0, 0, 0, 0.15);\n",
              "      filter: drop-shadow(0px 1px 2px rgba(0, 0, 0, 0.3));\n",
              "      fill: #FFFFFF;\n",
              "    }\n",
              "  </style>\n",
              "\n",
              "      <script>\n",
              "        const buttonEl =\n",
              "          document.querySelector('#df-20a87ae7-bef9-4940-b7a9-2258ab08acb8 button.colab-df-convert');\n",
              "        buttonEl.style.display =\n",
              "          google.colab.kernel.accessAllowed ? 'block' : 'none';\n",
              "\n",
              "        async function convertToInteractive(key) {\n",
              "          const element = document.querySelector('#df-20a87ae7-bef9-4940-b7a9-2258ab08acb8');\n",
              "          const dataTable =\n",
              "            await google.colab.kernel.invokeFunction('convertToInteractive',\n",
              "                                                     [key], {});\n",
              "          if (!dataTable) return;\n",
              "\n",
              "          const docLinkHtml = 'Like what you see? Visit the ' +\n",
              "            '<a target=\"_blank\" href=https://colab.research.google.com/notebooks/data_table.ipynb>data table notebook</a>'\n",
              "            + ' to learn more about interactive tables.';\n",
              "          element.innerHTML = '';\n",
              "          dataTable['output_type'] = 'display_data';\n",
              "          await google.colab.output.renderOutput(dataTable, element);\n",
              "          const docLink = document.createElement('div');\n",
              "          docLink.innerHTML = docLinkHtml;\n",
              "          element.appendChild(docLink);\n",
              "        }\n",
              "      </script>\n",
              "    </div>\n",
              "  </div>\n",
              "  "
            ],
            "text/plain": [
              "                         USMER  MEDICAL_UNIT       SEX  PATIENT_TYPE  \\\n",
              "USMER                 1.000000      0.127927 -0.001126     -0.190570   \n",
              "MEDICAL_UNIT          0.127927      1.000000  0.001475     -0.205413   \n",
              "SEX                  -0.001126      0.001475  1.000000      0.089505   \n",
              "PATIENT_TYPE         -0.190570     -0.205413  0.089505      1.000000   \n",
              "INTUBED               0.175457      0.205243 -0.089943     -0.976335   \n",
              "PNEUMONIA            -0.154950     -0.046433 -0.012131      0.022966   \n",
              "AGE                  -0.045088     -0.082223  0.028367      0.315193   \n",
              "PREGNANT             -0.001469      0.005300  0.992713      0.088340   \n",
              "DIABETES              0.014704      0.019523  0.008888      0.008743   \n",
              "COPD                  0.011030      0.014209  0.009372      0.019548   \n",
              "ASTHMA                0.010814      0.013312  0.010415      0.023042   \n",
              "INMSUPR               0.003234      0.011785  0.007999      0.024924   \n",
              "HIPERTENSION          0.014830      0.020964  0.009257      0.006852   \n",
              "OTHER_DISEASE        -0.015763      0.027453  0.009039      0.036724   \n",
              "CARDIOVASCULAR        0.010097      0.014406  0.008174      0.022175   \n",
              "OBESITY               0.014567      0.019577  0.009858      0.019650   \n",
              "RENAL_CHRONIC         0.011527      0.014751  0.008249      0.018873   \n",
              "TOBACCO               0.010638      0.012282  0.004919      0.022123   \n",
              "CLASIFFICATION_FINAL  0.028840      0.079981 -0.057782     -0.183370   \n",
              "ICU                   0.174901      0.205141 -0.089844     -0.975810   \n",
              "\n",
              "                       INTUBED  PNEUMONIA       AGE  PREGNANT  DIABETES  \\\n",
              "USMER                 0.175457  -0.154950 -0.045088 -0.001469  0.014704   \n",
              "MEDICAL_UNIT          0.205243  -0.046433 -0.082223  0.005300  0.019523   \n",
              "SEX                  -0.089943  -0.012131  0.028367  0.992713  0.008888   \n",
              "PATIENT_TYPE         -0.976335   0.022966  0.315193  0.088340  0.008743   \n",
              "INTUBED               1.000000   0.079743 -0.317945 -0.088097 -0.009215   \n",
              "PNEUMONIA             0.079743   1.000000 -0.073127 -0.007284 -0.004484   \n",
              "AGE                  -0.317945  -0.073127  1.000000  0.027257  0.004422   \n",
              "PREGNANT             -0.088097  -0.007284  0.027257  1.000000  0.014707   \n",
              "DIABETES             -0.009215  -0.004484  0.004422  0.014707  1.000000   \n",
              "COPD                 -0.020124  -0.005618  0.019048  0.015736  0.828823   \n",
              "ASTHMA               -0.023446  -0.005392  0.022715  0.016765  0.829349   \n",
              "INMSUPR              -0.024140  -0.000802  0.022820  0.014265  0.781108   \n",
              "HIPERTENSION         -0.007628  -0.004799 -0.004964  0.015335  0.835018   \n",
              "OTHER_DISEASE        -0.035404   0.001612  0.022837  0.014175  0.634611   \n",
              "CARDIOVASCULAR       -0.022442  -0.004758  0.019489  0.014378  0.809417   \n",
              "OBESITY              -0.020217  -0.004276  0.015500  0.015895  0.752739   \n",
              "RENAL_CHRONIC        -0.019309  -0.005287  0.020124  0.014392  0.812657   \n",
              "TOBACCO              -0.022428  -0.004325  0.021263  0.010794  0.771763   \n",
              "CLASIFFICATION_FINAL  0.193075   0.075351 -0.152637 -0.057809 -0.004739   \n",
              "ICU                   0.999434   0.079691 -0.317813 -0.087991 -0.009223   \n",
              "\n",
              "                          COPD    ASTHMA   INMSUPR  HIPERTENSION  \\\n",
              "USMER                 0.011030  0.010814  0.003234      0.014830   \n",
              "MEDICAL_UNIT          0.014209  0.013312  0.011785      0.020964   \n",
              "SEX                   0.009372  0.010415  0.007999      0.009257   \n",
              "PATIENT_TYPE          0.019548  0.023042  0.024924      0.006852   \n",
              "INTUBED              -0.020124 -0.023446 -0.024140     -0.007628   \n",
              "PNEUMONIA            -0.005618 -0.005392 -0.000802     -0.004799   \n",
              "AGE                   0.019048  0.022715  0.022820     -0.004964   \n",
              "PREGNANT              0.015736  0.016765  0.014265      0.015335   \n",
              "DIABETES              0.828823  0.829349  0.781108      0.835018   \n",
              "COPD                  1.000000  0.908929  0.852273      0.855249   \n",
              "ASTHMA                0.908929  1.000000  0.868917      0.864264   \n",
              "INMSUPR               0.852273  0.868917  1.000000      0.825158   \n",
              "HIPERTENSION          0.855249  0.864264  0.825158      1.000000   \n",
              "OTHER_DISEASE         0.687323  0.696709  0.734826      0.671532   \n",
              "CARDIOVASCULAR        0.880097  0.891026  0.853365      0.861063   \n",
              "OBESITY               0.814868  0.824631  0.783953      0.805127   \n",
              "RENAL_CHRONIC         0.884032  0.895050  0.852755      0.860477   \n",
              "TOBACCO               0.836097  0.845067  0.806749      0.816539   \n",
              "CLASIFFICATION_FINAL -0.010336 -0.011178 -0.009412     -0.006020   \n",
              "ICU                  -0.020146 -0.023415 -0.024077     -0.007573   \n",
              "\n",
              "                      OTHER_DISEASE  CARDIOVASCULAR   OBESITY  RENAL_CHRONIC  \\\n",
              "USMER                     -0.015763        0.010097  0.014567       0.011527   \n",
              "MEDICAL_UNIT               0.027453        0.014406  0.019577       0.014751   \n",
              "SEX                        0.009039        0.008174  0.009858       0.008249   \n",
              "PATIENT_TYPE               0.036724        0.022175  0.019650       0.018873   \n",
              "INTUBED                   -0.035404       -0.022442 -0.020217      -0.019309   \n",
              "PNEUMONIA                  0.001612       -0.004758 -0.004276      -0.005287   \n",
              "AGE                        0.022837        0.019489  0.015500       0.020124   \n",
              "PREGNANT                   0.014175        0.014378  0.015895       0.014392   \n",
              "DIABETES                   0.634611        0.809417  0.752739       0.812657   \n",
              "COPD                       0.687323        0.880097  0.814868       0.884032   \n",
              "ASTHMA                     0.696709        0.891026  0.824631       0.895050   \n",
              "INMSUPR                    0.734826        0.853365  0.783953       0.852755   \n",
              "HIPERTENSION               0.671532        0.861063  0.805127       0.860477   \n",
              "OTHER_DISEASE              1.000000        0.717129  0.649809       0.704725   \n",
              "CARDIOVASCULAR             0.717129        1.000000  0.834389       0.913248   \n",
              "OBESITY                    0.649809        0.834389  1.000000       0.842466   \n",
              "RENAL_CHRONIC              0.704725        0.913248  0.842466       1.000000   \n",
              "TOBACCO                    0.668621        0.858102  0.801834       0.868761   \n",
              "CLASIFFICATION_FINAL      -0.011143       -0.012143 -0.006924      -0.011342   \n",
              "ICU                       -0.035330       -0.022413 -0.020254      -0.019285   \n",
              "\n",
              "                       TOBACCO  CLASIFFICATION_FINAL       ICU  \n",
              "USMER                 0.010638              0.028840  0.174901  \n",
              "MEDICAL_UNIT          0.012282              0.079981  0.205141  \n",
              "SEX                   0.004919             -0.057782 -0.089844  \n",
              "PATIENT_TYPE          0.022123             -0.183370 -0.975810  \n",
              "INTUBED              -0.022428              0.193075  0.999434  \n",
              "PNEUMONIA            -0.004325              0.075351  0.079691  \n",
              "AGE                   0.021263             -0.152637 -0.317813  \n",
              "PREGNANT              0.010794             -0.057809 -0.087991  \n",
              "DIABETES              0.771763             -0.004739 -0.009223  \n",
              "COPD                  0.836097             -0.010336 -0.020146  \n",
              "ASTHMA                0.845067             -0.011178 -0.023415  \n",
              "INMSUPR               0.806749             -0.009412 -0.024077  \n",
              "HIPERTENSION          0.816539             -0.006020 -0.007573  \n",
              "OTHER_DISEASE         0.668621             -0.011143 -0.035330  \n",
              "CARDIOVASCULAR        0.858102             -0.012143 -0.022413  \n",
              "OBESITY               0.801834             -0.006924 -0.020254  \n",
              "RENAL_CHRONIC         0.868761             -0.011342 -0.019285  \n",
              "TOBACCO               1.000000             -0.012567 -0.022445  \n",
              "CLASIFFICATION_FINAL -0.012567              1.000000  0.193163  \n",
              "ICU                  -0.022445              0.193163  1.000000  "
            ]
          },
          "execution_count": 12,
          "metadata": {},
          "output_type": "execute_result"
        }
      ],
      "source": [
        "data.corr()"
      ]
    },
    {
      "cell_type": "markdown",
      "metadata": {
        "id": "9x9Dx9DDuw76"
      },
      "source": [
        "It is used to compute pairwise correlation of columns in the data. It returns a correlation matrix, where each value represents the correlation coefficient between two columns.\n",
        "\n",
        "The correlation coefficient ranges from -1 to 1, indicating the strength and direction of the relationship between the variables."
      ]
    },
    {
      "cell_type": "markdown",
      "metadata": {
        "id": "AH2ZJpTeUytm"
      },
      "source": [
        "**PLOT HEATMAP**"
      ]
    },
    {
      "cell_type": "code",
      "execution_count": null,
      "metadata": {
        "colab": {
          "base_uri": "https://localhost:8080/",
          "height": 653
        },
        "id": "TMDdmjbWUw0Y",
        "outputId": "5c48c414-b210-4241-c6ef-a17480341045"
      },
      "outputs": [
        {
          "name": "stderr",
          "output_type": "stream",
          "text": [
            "<ipython-input-13-014a00a5ee07>:2: FutureWarning: The default value of numeric_only in DataFrame.corr is deprecated. In a future version, it will default to False. Select only valid columns or specify the value of numeric_only to silence this warning.\n",
            "  dataplot = sns.heatmap(data.corr(), cmap='Reds', annot = True)\n"
          ]
        },
        {
          "data": {
            "image/png": "[encoded data removed]",
            "text/plain": [
              "<Figure size 1500x800 with 2 Axes>"
            ]
          },
          "metadata": {},
          "output_type": "display_data"
        }
      ],
      "source": [
        "fig, ax = plt.subplots(figsize=(15, 8))\n",
        "dataplot = sns.heatmap(data.corr(), cmap='Reds', annot = True)"
      ]
    },
    {
      "cell_type": "markdown",
      "metadata": {
        "id": "h81aqy54GaM2"
      },
      "source": [
        "Darker colors indicate negative correlation whereas, lighter colors indicate positive correlation.\n",
        "\n",
        "As we can observe from diagram above 1 represents highest negative correlation and -0.98 represents highest positive correlation. "
      ]
    },
    {
      "cell_type": "markdown",
      "metadata": {
        "id": "Cm0Eq12wVvDz"
      },
      "source": [
        "**Missing value analysis of \"INTUBED\" feature**"
      ]
    },
    {
      "cell_type": "code",
      "execution_count": null,
      "metadata": {
        "colab": {
          "base_uri": "https://localhost:8080/",
          "height": 467
        },
        "id": "zixcdKeGUfdo",
        "outputId": "d7ef8162-adc0-4ad3-b10b-0d86514306cc"
      },
      "outputs": [
        {
          "data": {
            "text/plain": [
              "<Axes: xlabel='INTUBED', ylabel='count'>"
            ]
          },
          "execution_count": 14,
          "metadata": {},
          "output_type": "execute_result"
        },
        {
          "data": {
            "image/png": "[encoded data removed]",
            "text/plain": [
              "<Figure size 640x480 with 1 Axes>"
            ]
          },
          "metadata": {},
          "output_type": "display_data"
        }
      ],
      "source": [
        "sns.countplot(x = 'INTUBED', data=data)"
      ]
    },
    {
      "cell_type": "markdown",
      "metadata": {
        "id": "O5aMqDMuWypC"
      },
      "source": [
        "This plot clearly shows that INTUBED column have so many missing values. As 97 is nothing but NaN value."
      ]
    },
    {
      "cell_type": "markdown",
      "metadata": {
        "id": "xzWxKJwWXG70"
      },
      "source": [
        "**Missing value analysis of \"ICU\" feature**"
      ]
    },
    {
      "cell_type": "code",
      "execution_count": null,
      "metadata": {
        "colab": {
          "base_uri": "https://localhost:8080/",
          "height": 467
        },
        "id": "XYZx_LqdXP38",
        "outputId": "863b74bc-5f54-4662-8a8b-abef7c7553c9"
      },
      "outputs": [
        {
          "data": {
            "text/plain": [
              "<Axes: xlabel='ICU', ylabel='count'>"
            ]
          },
          "execution_count": 15,
          "metadata": {},
          "output_type": "execute_result"
        },
        {
          "data": {
            "image/png": "[encoded data removed]",
            "text/plain": [
              "<Figure size 640x480 with 1 Axes>"
            ]
          },
          "metadata": {},
          "output_type": "display_data"
        }
      ],
      "source": [
        "sns.countplot(x = 'ICU', data=data)"
      ]
    },
    {
      "cell_type": "markdown",
      "metadata": {
        "id": "v0bAKxvSXXk0"
      },
      "source": [
        "Similarly, this count plot depicts that ICU column have alot of missing values. As 97 is nothing but missing value."
      ]
    },
    {
      "cell_type": "markdown",
      "metadata": {
        "id": "9HdmnrSezXj8"
      },
      "source": [
        "**Now, let us see how many rows are such where there are missing values in data, i.e. the value is either 97 and 99.**"
      ]
    },
    {
      "cell_type": "code",
      "execution_count": null,
      "metadata": {
        "colab": {
          "base_uri": "https://localhost:8080/",
          "height": 299
        },
        "id": "IehJZQ00zWiw",
        "outputId": "a1f50567-e5e8-45ed-cfd5-b543d51a72ad"
      },
      "outputs": [
        {
          "data": {
            "text/html": [
              "\n",
              "  <div id=\"df-d839ee89-9da3-4c90-b6c5-902f7c59a684\">\n",
              "    <div class=\"colab-df-container\">\n",
              "      <div>\n",
              "<style scoped>\n",
              "    .dataframe tbody tr th:only-of-type {\n",
              "        vertical-align: middle;\n",
              "    }\n",
              "\n",
              "    .dataframe tbody tr th {\n",
              "        vertical-align: top;\n",
              "    }\n",
              "\n",
              "    .dataframe thead th {\n",
              "        text-align: right;\n",
              "    }\n",
              "</style>\n",
              "<table border=\"1\" class=\"dataframe\">\n",
              "  <thead>\n",
              "    <tr style=\"text-align: right;\">\n",
              "      <th></th>\n",
              "      <th>USMER</th>\n",
              "      <th>MEDICAL_UNIT</th>\n",
              "      <th>SEX</th>\n",
              "      <th>PATIENT_TYPE</th>\n",
              "      <th>DATE_DIED</th>\n",
              "      <th>INTUBED</th>\n",
              "      <th>PNEUMONIA</th>\n",
              "      <th>AGE</th>\n",
              "      <th>PREGNANT</th>\n",
              "      <th>DIABETES</th>\n",
              "      <th>...</th>\n",
              "      <th>ASTHMA</th>\n",
              "      <th>INMSUPR</th>\n",
              "      <th>HIPERTENSION</th>\n",
              "      <th>OTHER_DISEASE</th>\n",
              "      <th>CARDIOVASCULAR</th>\n",
              "      <th>OBESITY</th>\n",
              "      <th>RENAL_CHRONIC</th>\n",
              "      <th>TOBACCO</th>\n",
              "      <th>CLASIFFICATION_FINAL</th>\n",
              "      <th>ICU</th>\n",
              "    </tr>\n",
              "  </thead>\n",
              "  <tbody>\n",
              "    <tr>\n",
              "      <th>0</th>\n",
              "      <td>2</td>\n",
              "      <td>1</td>\n",
              "      <td>1</td>\n",
              "      <td>1</td>\n",
              "      <td>03/05/2020</td>\n",
              "      <td>NaN</td>\n",
              "      <td>1.0</td>\n",
              "      <td>65.0</td>\n",
              "      <td>2.0</td>\n",
              "      <td>2</td>\n",
              "      <td>...</td>\n",
              "      <td>2</td>\n",
              "      <td>2</td>\n",
              "      <td>1</td>\n",
              "      <td>2</td>\n",
              "      <td>2</td>\n",
              "      <td>2</td>\n",
              "      <td>2</td>\n",
              "      <td>2</td>\n",
              "      <td>3</td>\n",
              "      <td>NaN</td>\n",
              "    </tr>\n",
              "    <tr>\n",
              "      <th>1</th>\n",
              "      <td>2</td>\n",
              "      <td>1</td>\n",
              "      <td>2</td>\n",
              "      <td>1</td>\n",
              "      <td>03/06/2020</td>\n",
              "      <td>NaN</td>\n",
              "      <td>1.0</td>\n",
              "      <td>72.0</td>\n",
              "      <td>NaN</td>\n",
              "      <td>2</td>\n",
              "      <td>...</td>\n",
              "      <td>2</td>\n",
              "      <td>2</td>\n",
              "      <td>1</td>\n",
              "      <td>2</td>\n",
              "      <td>2</td>\n",
              "      <td>1</td>\n",
              "      <td>1</td>\n",
              "      <td>2</td>\n",
              "      <td>5</td>\n",
              "      <td>NaN</td>\n",
              "    </tr>\n",
              "    <tr>\n",
              "      <th>2</th>\n",
              "      <td>2</td>\n",
              "      <td>1</td>\n",
              "      <td>2</td>\n",
              "      <td>2</td>\n",
              "      <td>09/06/2020</td>\n",
              "      <td>1.0</td>\n",
              "      <td>2.0</td>\n",
              "      <td>55.0</td>\n",
              "      <td>NaN</td>\n",
              "      <td>1</td>\n",
              "      <td>...</td>\n",
              "      <td>2</td>\n",
              "      <td>2</td>\n",
              "      <td>2</td>\n",
              "      <td>2</td>\n",
              "      <td>2</td>\n",
              "      <td>2</td>\n",
              "      <td>2</td>\n",
              "      <td>2</td>\n",
              "      <td>3</td>\n",
              "      <td>2.0</td>\n",
              "    </tr>\n",
              "    <tr>\n",
              "      <th>3</th>\n",
              "      <td>2</td>\n",
              "      <td>1</td>\n",
              "      <td>1</td>\n",
              "      <td>1</td>\n",
              "      <td>12/06/2020</td>\n",
              "      <td>NaN</td>\n",
              "      <td>2.0</td>\n",
              "      <td>53.0</td>\n",
              "      <td>2.0</td>\n",
              "      <td>2</td>\n",
              "      <td>...</td>\n",
              "      <td>2</td>\n",
              "      <td>2</td>\n",
              "      <td>2</td>\n",
              "      <td>2</td>\n",
              "      <td>2</td>\n",
              "      <td>2</td>\n",
              "      <td>2</td>\n",
              "      <td>2</td>\n",
              "      <td>7</td>\n",
              "      <td>NaN</td>\n",
              "    </tr>\n",
              "    <tr>\n",
              "      <th>4</th>\n",
              "      <td>2</td>\n",
              "      <td>1</td>\n",
              "      <td>2</td>\n",
              "      <td>1</td>\n",
              "      <td>21/06/2020</td>\n",
              "      <td>NaN</td>\n",
              "      <td>2.0</td>\n",
              "      <td>68.0</td>\n",
              "      <td>NaN</td>\n",
              "      <td>1</td>\n",
              "      <td>...</td>\n",
              "      <td>2</td>\n",
              "      <td>2</td>\n",
              "      <td>1</td>\n",
              "      <td>2</td>\n",
              "      <td>2</td>\n",
              "      <td>2</td>\n",
              "      <td>2</td>\n",
              "      <td>2</td>\n",
              "      <td>3</td>\n",
              "      <td>NaN</td>\n",
              "    </tr>\n",
              "  </tbody>\n",
              "</table>\n",
              "<p>5 rows × 21 columns</p>\n",
              "</div>\n",
              "      <button class=\"colab-df-convert\" onclick=\"convertToInteractive('df-d839ee89-9da3-4c90-b6c5-902f7c59a684')\"\n",
              "              title=\"Convert this dataframe to an interactive table.\"\n",
              "              style=\"display:none;\">\n",
              "        \n",
              "  <svg xmlns=\"http://www.w3.org/2000/svg\" height=\"24px\"viewBox=\"0 0 24 24\"\n",
              "       width=\"24px\">\n",
              "    <path d=\"M0 0h24v24H0V0z\" fill=\"none\"/>\n",
              "    <path d=\"M18.56 5.44l.94 2.06.94-2.06 2.06-.94-2.06-.94-.94-2.06-.94 2.06-2.06.94zm-11 1L8.5 8.5l.94-2.06 2.06-.94-2.06-.94L8.5 2.5l-.94 2.06-2.06.94zm10 10l.94 2.06.94-2.06 2.06-.94-2.06-.94-.94-2.06-.94 2.06-2.06.94z\"/><path d=\"M17.41 7.96l-1.37-1.37c-.4-.4-.92-.59-1.43-.59-.52 0-1.04.2-1.43.59L10.3 9.45l-7.72 7.72c-.78.78-.78 2.05 0 2.83L4 21.41c.39.39.9.59 1.41.59.51 0 1.02-.2 1.41-.59l7.78-7.78 2.81-2.81c.8-.78.8-2.07 0-2.86zM5.41 20L4 18.59l7.72-7.72 1.47 1.35L5.41 20z\"/>\n",
              "  </svg>\n",
              "      </button>\n",
              "      \n",
              "  <style>\n",
              "    .colab-df-container {\n",
              "      display:flex;\n",
              "      flex-wrap:wrap;\n",
              "      gap: 12px;\n",
              "    }\n",
              "\n",
              "    .colab-df-convert {\n",
              "      background-color: #E8F0FE;\n",
              "      border: none;\n",
              "      border-radius: 50%;\n",
              "      cursor: pointer;\n",
              "      display: none;\n",
              "      fill: #1967D2;\n",
              "      height: 32px;\n",
              "      padding: 0 0 0 0;\n",
              "      width: 32px;\n",
              "    }\n",
              "\n",
              "    .colab-df-convert:hover {\n",
              "      background-color: #E2EBFA;\n",
              "      box-shadow: 0px 1px 2px rgba(60, 64, 67, 0.3), 0px 1px 3px 1px rgba(60, 64, 67, 0.15);\n",
              "      fill: #174EA6;\n",
              "    }\n",
              "\n",
              "    [theme=dark] .colab-df-convert {\n",
              "      background-color: #3B4455;\n",
              "      fill: #D2E3FC;\n",
              "    }\n",
              "\n",
              "    [theme=dark] .colab-df-convert:hover {\n",
              "      background-color: #434B5C;\n",
              "      box-shadow: 0px 1px 3px 1px rgba(0, 0, 0, 0.15);\n",
              "      filter: drop-shadow(0px 1px 2px rgba(0, 0, 0, 0.3));\n",
              "      fill: #FFFFFF;\n",
              "    }\n",
              "  </style>\n",
              "\n",
              "      <script>\n",
              "        const buttonEl =\n",
              "          document.querySelector('#df-d839ee89-9da3-4c90-b6c5-902f7c59a684 button.colab-df-convert');\n",
              "        buttonEl.style.display =\n",
              "          google.colab.kernel.accessAllowed ? 'block' : 'none';\n",
              "\n",
              "        async function convertToInteractive(key) {\n",
              "          const element = document.querySelector('#df-d839ee89-9da3-4c90-b6c5-902f7c59a684');\n",
              "          const dataTable =\n",
              "            await google.colab.kernel.invokeFunction('convertToInteractive',\n",
              "                                                     [key], {});\n",
              "          if (!dataTable) return;\n",
              "\n",
              "          const docLinkHtml = 'Like what you see? Visit the ' +\n",
              "            '<a target=\"_blank\" href=https://colab.research.google.com/notebooks/data_table.ipynb>data table notebook</a>'\n",
              "            + ' to learn more about interactive tables.';\n",
              "          element.innerHTML = '';\n",
              "          dataTable['output_type'] = 'display_data';\n",
              "          await google.colab.output.renderOutput(dataTable, element);\n",
              "          const docLink = document.createElement('div');\n",
              "          docLink.innerHTML = docLinkHtml;\n",
              "          element.appendChild(docLink);\n",
              "        }\n",
              "      </script>\n",
              "    </div>\n",
              "  </div>\n",
              "  "
            ],
            "text/plain": [
              "   USMER  MEDICAL_UNIT  SEX  PATIENT_TYPE   DATE_DIED  INTUBED  PNEUMONIA  \\\n",
              "0      2             1    1             1  03/05/2020      NaN        1.0   \n",
              "1      2             1    2             1  03/06/2020      NaN        1.0   \n",
              "2      2             1    2             2  09/06/2020      1.0        2.0   \n",
              "3      2             1    1             1  12/06/2020      NaN        2.0   \n",
              "4      2             1    2             1  21/06/2020      NaN        2.0   \n",
              "\n",
              "    AGE  PREGNANT  DIABETES  ...  ASTHMA  INMSUPR  HIPERTENSION  \\\n",
              "0  65.0       2.0         2  ...       2        2             1   \n",
              "1  72.0       NaN         2  ...       2        2             1   \n",
              "2  55.0       NaN         1  ...       2        2             2   \n",
              "3  53.0       2.0         2  ...       2        2             2   \n",
              "4  68.0       NaN         1  ...       2        2             1   \n",
              "\n",
              "   OTHER_DISEASE  CARDIOVASCULAR  OBESITY  RENAL_CHRONIC  TOBACCO  \\\n",
              "0              2               2        2              2        2   \n",
              "1              2               2        1              1        2   \n",
              "2              2               2        2              2        2   \n",
              "3              2               2        2              2        2   \n",
              "4              2               2        2              2        2   \n",
              "\n",
              "   CLASIFFICATION_FINAL  ICU  \n",
              "0                     3  NaN  \n",
              "1                     5  NaN  \n",
              "2                     3  2.0  \n",
              "3                     7  NaN  \n",
              "4                     3  NaN  \n",
              "\n",
              "[5 rows x 21 columns]"
            ]
          },
          "execution_count": 16,
          "metadata": {},
          "output_type": "execute_result"
        }
      ],
      "source": [
        "data = data.replace([97,99], np.nan)\n",
        "mm = data[data.isnull().all(axis=1)]\n",
        "data.iloc[list(mm.index)]\n",
        "data.head()"
      ]
    },
    {
      "cell_type": "code",
      "execution_count": null,
      "metadata": {
        "colab": {
          "base_uri": "https://localhost:8080/"
        },
        "id": "-5haPTdHkp_K",
        "outputId": "d09953fe-99fc-4082-fff1-942cbedc49df"
      },
      "outputs": [
        {
          "data": {
            "text/plain": [
              "9999-99-99    971633\n",
              "06/07/2020      1000\n",
              "07/07/2020       996\n",
              "13/07/2020       990\n",
              "16/06/2020       979\n",
              "               ...  \n",
              "24/11/2020         1\n",
              "17/12/2020         1\n",
              "08/12/2020         1\n",
              "16/03/2021         1\n",
              "22/04/2021         1\n",
              "Name: DATE_DIED, Length: 401, dtype: int64"
            ]
          },
          "execution_count": 17,
          "metadata": {},
          "output_type": "execute_result"
        }
      ],
      "source": [
        "data.DATE_DIED.value_counts()"
      ]
    },
    {
      "cell_type": "markdown",
      "metadata": {
        "id": "4Qmoeo5tlN9U"
      },
      "source": [
        "In \"DATE_DIED\" column, we have 971633 \"9999-99-99\" values which represent alive patients so I will take this feature as a \"DEATH\" that includes wether the patient died or not."
      ]
    },
    {
      "cell_type": "markdown",
      "metadata": {
        "id": "7AybCGKbphkH"
      },
      "source": [
        "**PREPARING DATE_DIED COLUMN**"
      ]
    },
    {
      "cell_type": "code",
      "execution_count": null,
      "metadata": {
        "id": "jNa26x4KlBEN"
      },
      "outputs": [],
      "source": [
        "data['DEATH'] = [2 if i=='9999-99-99' else 1 for i in data['DATE_DIED']]"
      ]
    },
    {
      "cell_type": "code",
      "execution_count": null,
      "metadata": {
        "id": "241sObTOEKcf"
      },
      "outputs": [],
      "source": [
        "# Now we can remove the DATE_DIED field\n",
        "data.drop(columns=['DATE_DIED'], inplace=True)"
      ]
    },
    {
      "cell_type": "markdown",
      "metadata": {
        "id": "Ry2YgVmE0_rV"
      },
      "source": [
        "As, 'DATE_DIED' column which is now reffered as 'DEATH' column because this column is our target variable and so it should be categorical column so I had to convert '9999-99-99' values to make this column ready for analysis. "
      ]
    },
    {
      "cell_type": "markdown",
      "metadata": {
        "id": "UgaNyAyxmsX0"
      },
      "source": [
        "**CHECK MISSING VALUES IN DATA**"
      ]
    },
    {
      "cell_type": "code",
      "execution_count": null,
      "metadata": {
        "colab": {
          "base_uri": "https://localhost:8080/"
        },
        "id": "SNwaKjKu3YIb",
        "outputId": "7adfa5c2-4703-4bca-ab95-ddc79bdd47af"
      },
      "outputs": [
        {
          "data": {
            "text/plain": [
              "USMER                        0\n",
              "MEDICAL_UNIT                 0\n",
              "SEX                          0\n",
              "PATIENT_TYPE                 0\n",
              "INTUBED                 855869\n",
              "PNEUMONIA                16003\n",
              "AGE                        221\n",
              "PREGNANT                523511\n",
              "DIABETES                     0\n",
              "COPD                         0\n",
              "ASTHMA                       0\n",
              "INMSUPR                      0\n",
              "HIPERTENSION                 0\n",
              "OTHER_DISEASE                0\n",
              "CARDIOVASCULAR               0\n",
              "OBESITY                      0\n",
              "RENAL_CHRONIC                0\n",
              "TOBACCO                      0\n",
              "CLASIFFICATION_FINAL         0\n",
              "ICU                     856032\n",
              "DEATH                        0\n",
              "dtype: int64"
            ]
          },
          "execution_count": 20,
          "metadata": {},
          "output_type": "execute_result"
        }
      ],
      "source": [
        "data.isnull().sum()"
      ]
    },
    {
      "cell_type": "markdown",
      "metadata": {
        "id": "8H0dE3bO3hXa"
      },
      "source": [
        "As total number of values in each column are 1048575 and(***INTUBED=855869, PREGNANT=523511, ICU=856032***) these columns have more than 50% of missing values, so we will drop these columns."
      ]
    },
    {
      "cell_type": "markdown",
      "metadata": {
        "id": "ZDttUMVy84x7"
      },
      "source": [
        "**DROP UNWANTED COLUMNS**"
      ]
    },
    {
      "cell_type": "code",
      "execution_count": null,
      "metadata": {
        "id": "wRn-nYgu8UyS"
      },
      "outputs": [],
      "source": [
        "data = data.drop(columns=['INTUBED', 'PREGNANT', 'ICU'])"
      ]
    },
    {
      "cell_type": "code",
      "execution_count": null,
      "metadata": {
        "colab": {
          "base_uri": "https://localhost:8080/"
        },
        "id": "NYNvlDas5yJQ",
        "outputId": "e8851749-7260-4582-a8c7-4124122c6ab7"
      },
      "outputs": [
        {
          "data": {
            "text/plain": [
              "Index(['USMER', 'MEDICAL_UNIT', 'SEX', 'PATIENT_TYPE', 'PNEUMONIA', 'AGE',\n",
              "       'DIABETES', 'COPD', 'ASTHMA', 'INMSUPR', 'HIPERTENSION',\n",
              "       'OTHER_DISEASE', 'CARDIOVASCULAR', 'OBESITY', 'RENAL_CHRONIC',\n",
              "       'TOBACCO', 'CLASIFFICATION_FINAL', 'DEATH'],\n",
              "      dtype='object')"
            ]
          },
          "execution_count": 22,
          "metadata": {},
          "output_type": "execute_result"
        }
      ],
      "source": [
        "data.columns"
      ]
    },
    {
      "cell_type": "code",
      "execution_count": null,
      "metadata": {
        "colab": {
          "base_uri": "https://localhost:8080/"
        },
        "id": "7-kxjuVt58uV",
        "outputId": "108a4165-4628-47a3-9156-6cbe723bdda2"
      },
      "outputs": [
        {
          "data": {
            "text/plain": [
              "USMER                       0\n",
              "MEDICAL_UNIT                0\n",
              "SEX                         0\n",
              "PATIENT_TYPE                0\n",
              "PNEUMONIA               16003\n",
              "AGE                       221\n",
              "DIABETES                    0\n",
              "COPD                        0\n",
              "ASTHMA                      0\n",
              "INMSUPR                     0\n",
              "HIPERTENSION                0\n",
              "OTHER_DISEASE               0\n",
              "CARDIOVASCULAR              0\n",
              "OBESITY                     0\n",
              "RENAL_CHRONIC               0\n",
              "TOBACCO                     0\n",
              "CLASIFFICATION_FINAL        0\n",
              "DEATH                       0\n",
              "dtype: int64"
            ]
          },
          "execution_count": 23,
          "metadata": {},
          "output_type": "execute_result"
        }
      ],
      "source": [
        "data.isnull().sum()"
      ]
    },
    {
      "cell_type": "markdown",
      "metadata": {
        "id": "9qqk3bY1UYQp"
      },
      "source": [
        "Now only AGE and PNEUMONIA column have missing values so I am applying ***Mode*** to Pneumonia column and ***Median*** to Age column columns."
      ]
    },
    {
      "cell_type": "markdown",
      "metadata": {
        "id": "QnPTz1aEpQZs"
      },
      "source": [
        "**FILL MISSING VALUES** "
      ]
    },
    {
      "cell_type": "code",
      "execution_count": null,
      "metadata": {
        "id": "F8rFCdD2nxl1"
      },
      "outputs": [],
      "source": [
        "data['PNEUMONIA'] = data['PNEUMONIA'].fillna((data['PNEUMONIA'].mode()[0]))\n",
        "data['AGE'] = data['AGE'].fillna((data['AGE'].median()))\n"
      ]
    },
    {
      "cell_type": "code",
      "execution_count": null,
      "metadata": {
        "colab": {
          "base_uri": "https://localhost:8080/"
        },
        "id": "YuigDn5JIvfn",
        "outputId": "03ba734d-f16f-4c5c-89a4-e9ba7029ab1a"
      },
      "outputs": [
        {
          "data": {
            "text/plain": [
              "Index(['USMER', 'MEDICAL_UNIT', 'SEX', 'PATIENT_TYPE', 'PNEUMONIA', 'AGE',\n",
              "       'DIABETES', 'COPD', 'ASTHMA', 'INMSUPR', 'HIPERTENSION',\n",
              "       'OTHER_DISEASE', 'CARDIOVASCULAR', 'OBESITY', 'RENAL_CHRONIC',\n",
              "       'TOBACCO', 'CLASIFFICATION_FINAL', 'DEATH'],\n",
              "      dtype='object')"
            ]
          },
          "execution_count": 31,
          "metadata": {},
          "output_type": "execute_result"
        }
      ],
      "source": [
        "data.columns"
      ]
    },
    {
      "cell_type": "markdown",
      "metadata": {
        "id": "GmpPmTlcvabj"
      },
      "source": [
        "It simply displays total number of columns currently present in dataset along with there names in the form of list. "
      ]
    },
    {
      "cell_type": "code",
      "execution_count": null,
      "metadata": {
        "colab": {
          "base_uri": "https://localhost:8080/"
        },
        "id": "4pW8hDmeP8eD",
        "outputId": "c3e903c6-6dfb-42fc-e8e6-38da4cd8e1a6"
      },
      "outputs": [
        {
          "data": {
            "text/plain": [
              "USMER                   0\n",
              "MEDICAL_UNIT            0\n",
              "SEX                     0\n",
              "PATIENT_TYPE            0\n",
              "PNEUMONIA               0\n",
              "AGE                     0\n",
              "DIABETES                0\n",
              "COPD                    0\n",
              "ASTHMA                  0\n",
              "INMSUPR                 0\n",
              "HIPERTENSION            0\n",
              "OTHER_DISEASE           0\n",
              "CARDIOVASCULAR          0\n",
              "OBESITY                 0\n",
              "RENAL_CHRONIC           0\n",
              "TOBACCO                 0\n",
              "CLASIFFICATION_FINAL    0\n",
              "DEATH                   0\n",
              "dtype: int64"
            ]
          },
          "execution_count": 32,
          "metadata": {},
          "output_type": "execute_result"
        }
      ],
      "source": [
        "data.isnull().sum()"
      ]
    },
    {
      "cell_type": "markdown",
      "metadata": {
        "id": "uxEQjUtAXKuD"
      },
      "source": [
        "Now, no column have missing values and datatype of every column is int64. "
      ]
    },
    {
      "cell_type": "markdown",
      "metadata": {
        "id": "ldDfEU0PVtej"
      },
      "source": [
        "**EXPLORATORY DATA ANALYSIS(EDA)**"
      ]
    },
    {
      "cell_type": "markdown",
      "metadata": {
        "id": "17rd9QAwNNbQ"
      },
      "source": [
        "**Analyzing Death rate according to the Obesity**"
      ]
    },
    {
      "cell_type": "code",
      "execution_count": null,
      "metadata": {
        "colab": {
          "base_uri": "https://localhost:8080/",
          "height": 474
        },
        "id": "y3tLPzy5yLXP",
        "outputId": "74ead9d1-28a9-4590-ee31-42c1875e532a"
      },
      "outputs": [
        {
          "data": {
            "image/png": "[encoded data removed]",
            "text/plain": [
              "<Figure size 640x480 with 1 Axes>"
            ]
          },
          "metadata": {},
          "output_type": "display_data"
        }
      ],
      "source": [
        "sns.countplot(x ='OBESITY', hue = \"DEATH\", data = data, palette = \"Set2\")\n",
        "plt.title(\"Obesity-Death\",fontsize=15, color=\"black\")\n",
        "plt.show()"
      ]
    },
    {
      "cell_type": "markdown",
      "metadata": {
        "id": "Vd6Ew_L-0KV-"
      },
      "source": [
        "Obese patients are more likely to die from covid as compared to non-obese patients."
      ]
    },
    {
      "cell_type": "markdown",
      "metadata": {
        "id": "ctVPzpilLp_q"
      },
      "source": [
        " **Analyzing Death rate according to the Sex** "
      ]
    },
    {
      "cell_type": "code",
      "execution_count": null,
      "metadata": {
        "colab": {
          "base_uri": "https://localhost:8080/",
          "height": 474
        },
        "id": "HVWh1-3F0pQa",
        "outputId": "d88fe018-2ace-40bf-ccd5-a86a97b30712"
      },
      "outputs": [
        {
          "data": {
            "image/png": "[encoded data removed]",
            "text/plain": [
              "<Figure size 640x480 with 1 Axes>"
            ]
          },
          "metadata": {},
          "output_type": "display_data"
        }
      ],
      "source": [
        "sns.countplot(x ='SEX', hue = \"DEATH\", data = data, palette = sns.cubehelix_palette(2))\n",
        "plt.title(\"Sex-Death\",fontsize=15, color=\"black\")\n",
        "plt.show()"
      ]
    },
    {
      "cell_type": "markdown",
      "metadata": {
        "id": "2rjDGoah5nR4"
      },
      "source": [
        "Death rate of males is more in comparison to females."
      ]
    },
    {
      "cell_type": "markdown",
      "metadata": {
        "id": "sC-7yU1DHc6D"
      },
      "source": [
        "**TO CHECK IF CONTINUOUS VARIABLE IN DATASET IS FOLLOWING NORMAL DISTRIBUTION**"
      ]
    },
    {
      "cell_type": "code",
      "execution_count": null,
      "metadata": {
        "colab": {
          "base_uri": "https://localhost:8080/",
          "height": 445
        },
        "id": "66z5-FF4He0S",
        "outputId": "47fc993f-0521-4c3c-9bc9-393cd6758b07"
      },
      "outputs": [
        {
          "data": {
            "image/png": "[encoded data removed]",
            "text/plain": [
              "<Figure size 500x500 with 1 Axes>"
            ]
          },
          "metadata": {},
          "output_type": "display_data"
        }
      ],
      "source": [
        "data['AGE'].hist(bins=15, figsize=(5,5), grid = True, rwidth = 0.9)\n",
        "plt.show()"
      ]
    },
    {
      "cell_type": "markdown",
      "metadata": {
        "id": "FxOaGwVXI7dF"
      },
      "source": [
        "By simply looking at this histogram, we can tell that the age column does not exhibit a “bell-shape” and is not normally distributed.\n",
        "\n",
        "Also it clearly shows majority of patients are roughly between 20-60 years old"
      ]
    },
    {
      "cell_type": "markdown",
      "metadata": {
        "id": "ZR2QFnHkI8tV"
      },
      "source": [
        "**WORKING ON OUTLIERS**\n",
        "\n",
        "Here, we will be doing Outlier Detection by ***Interquartile Range (IQR)*** as data is not normally distributed"
      ]
    },
    {
      "cell_type": "code",
      "execution_count": null,
      "metadata": {
        "colab": {
          "base_uri": "https://localhost:8080/",
          "height": 448
        },
        "id": "XVXVEsxeOTbT",
        "outputId": "bf4511bd-119f-42ce-c729-b2318a974492"
      },
      "outputs": [
        {
          "data": {
            "text/plain": [
              "<Axes: >"
            ]
          },
          "execution_count": 36,
          "metadata": {},
          "output_type": "execute_result"
        },
        {
          "data": {
            "image/png": "[encoded data removed]",
            "text/plain": [
              "<Figure size 640x480 with 1 Axes>"
            ]
          },
          "metadata": {},
          "output_type": "display_data"
        }
      ],
      "source": [
        "data['AGE'].plot(kind = \"box\") # Check Boxplots for outlier presence in continuous variable"
      ]
    },
    {
      "cell_type": "markdown",
      "metadata": {
        "id": "dcuw3BhxL9OL"
      },
      "source": [
        "This box plot clearly shows that AGE column have outliers so I will calculate IQR range of AGE column and from that will check number of outliers in that specific column, then apply filters to remove outliers and at last will check whether the outliers are removed or not."
      ]
    },
    {
      "cell_type": "code",
      "execution_count": null,
      "metadata": {
        "colab": {
          "base_uri": "https://localhost:8080/"
        },
        "id": "XbksI2iH-gFh",
        "outputId": "724de2ad-58f8-42af-8858-9bc5f2a45f59"
      },
      "outputs": [
        {
          "data": {
            "text/plain": [
              "0.0"
            ]
          },
          "execution_count": 37,
          "metadata": {},
          "output_type": "execute_result"
        }
      ],
      "source": [
        "min(data['AGE'])"
      ]
    },
    {
      "cell_type": "code",
      "execution_count": null,
      "metadata": {
        "colab": {
          "base_uri": "https://localhost:8080/"
        },
        "id": "um7Qnai_-kAU",
        "outputId": "1a75d750-b934-46e3-fd10-61e144b3187f"
      },
      "outputs": [
        {
          "data": {
            "text/plain": [
              "121.0"
            ]
          },
          "execution_count": 38,
          "metadata": {},
          "output_type": "execute_result"
        }
      ],
      "source": [
        "max(data['AGE'])"
      ]
    },
    {
      "cell_type": "markdown",
      "metadata": {
        "id": "tH8G-MVtAcm3"
      },
      "source": [
        "***Calculate IQR range for Age column - only continuous variable in data***"
      ]
    },
    {
      "cell_type": "code",
      "execution_count": null,
      "metadata": {
        "colab": {
          "base_uri": "https://localhost:8080/"
        },
        "id": "zv88KKvS76fv",
        "outputId": "d654c84e-8093-4ed0-f4c8-ff3010f44cde"
      },
      "outputs": [
        {
          "data": {
            "text/plain": [
              "23.0"
            ]
          },
          "execution_count": 39,
          "metadata": {},
          "output_type": "execute_result"
        }
      ],
      "source": [
        "Q1 = data['AGE'].quantile(0.25)\n",
        "Q3 = data['AGE'].quantile(0.75)\n",
        "IQR = Q3-Q1\n",
        "IQR"
      ]
    },
    {
      "cell_type": "markdown",
      "metadata": {
        "id": "kojCu1lMAk32"
      },
      "source": [
        "***Check number of outliers in Age column***"
      ]
    },
    {
      "cell_type": "code",
      "execution_count": null,
      "metadata": {
        "colab": {
          "base_uri": "https://localhost:8080/"
        },
        "id": "meljLUBCOaAX",
        "outputId": "68d31a35-91e1-43f7-86db-9272b719dd31"
      },
      "outputs": [
        {
          "name": "stdout",
          "output_type": "stream",
          "text": [
            "5419\n"
          ]
        }
      ],
      "source": [
        "print(((data['AGE'] < (Q1 - 1.5 * IQR)) | (data['AGE'] > (Q3 + 1.5 * IQR))). sum())"
      ]
    },
    {
      "cell_type": "markdown",
      "metadata": {
        "id": "AbEAklJdAnX3"
      },
      "source": [
        "***Add Filter to remove outliers***"
      ]
    },
    {
      "cell_type": "code",
      "execution_count": null,
      "metadata": {
        "colab": {
          "base_uri": "https://localhost:8080/"
        },
        "id": "lUgDdLEHOef9",
        "outputId": "1aa94301-3e0f-4f34-9980-00ba8af3680b"
      },
      "outputs": [
        {
          "data": {
            "text/plain": [
              "(1043156, 18)"
            ]
          },
          "execution_count": 41,
          "metadata": {},
          "output_type": "execute_result"
        }
      ],
      "source": [
        "data = data[~((data['AGE'] < (Q1 - 1.5 * IQR)) | (data['AGE'] > (Q3 + 1.5 * IQR)))]\n",
        "data.shape"
      ]
    },
    {
      "cell_type": "markdown",
      "metadata": {
        "id": "dszcUe2IAYWU"
      },
      "source": [
        "***Check if outliers from age column are removed***"
      ]
    },
    {
      "cell_type": "code",
      "execution_count": null,
      "metadata": {
        "colab": {
          "base_uri": "https://localhost:8080/"
        },
        "id": "xFFeOX2nAWt1",
        "outputId": "5cddc737-eb43-4e16-9f59-5fb5d3e4b53b"
      },
      "outputs": [
        {
          "name": "stdout",
          "output_type": "stream",
          "text": [
            "0\n"
          ]
        }
      ],
      "source": [
        "print(((data['AGE'] < (Q1 - 1.5 * IQR)) | (data['AGE'] > (Q3 + 1.5 * IQR))). sum())"
      ]
    },
    {
      "cell_type": "markdown",
      "metadata": {
        "id": "WoMy5FwOcCWV"
      },
      "source": [
        "**NORMALITATION/SCALING OF NUMERICAL DATA COLUMN**"
      ]
    },
    {
      "cell_type": "code",
      "execution_count": null,
      "metadata": {
        "colab": {
          "base_uri": "https://localhost:8080/"
        },
        "id": "eMd2Kp9ucAya",
        "outputId": "c6201337-6539-4eed-cb8c-17e7f88035b0"
      },
      "outputs": [
        {
          "data": {
            "text/plain": [
              "0    0.747126\n",
              "1    0.827586\n",
              "2    0.632184\n",
              "3    0.609195\n",
              "4    0.781609\n",
              "Name: AGE_norm, dtype: float64"
            ]
          },
          "execution_count": 43,
          "metadata": {},
          "output_type": "execute_result"
        }
      ],
      "source": [
        "from sklearn.preprocessing import MinMaxScaler\n",
        "scaler = MinMaxScaler()\n",
        "\n",
        "# Normalize the 'age' column\n",
        "data['AGE_norm'] = scaler.fit_transform(data[['AGE']]) \n",
        "data['AGE_norm'].head()\n"
      ]
    },
    {
      "cell_type": "markdown",
      "metadata": {
        "id": "TdNsvZT3WOrT"
      },
      "source": [
        "Normalising AGE column as this is the only numerical column."
      ]
    },
    {
      "cell_type": "markdown",
      "metadata": {
        "id": "vKNo577QZfGr"
      },
      "source": [
        "**CONCATENATING FEATURES AND SEPERATE TARGET AND FEATURES**"
      ]
    },
    {
      "cell_type": "code",
      "execution_count": null,
      "metadata": {
        "colab": {
          "base_uri": "https://localhost:8080/",
          "height": 270
        },
        "id": "HLlZaJ42Y1w-",
        "outputId": "3bd4f22c-53f3-4065-c607-7c327791e659"
      },
      "outputs": [
        {
          "data": {
            "text/html": [
              "\n",
              "  <div id=\"df-17af5a78-f101-4dcc-8b7f-8cec2f306d25\">\n",
              "    <div class=\"colab-df-container\">\n",
              "      <div>\n",
              "<style scoped>\n",
              "    .dataframe tbody tr th:only-of-type {\n",
              "        vertical-align: middle;\n",
              "    }\n",
              "\n",
              "    .dataframe tbody tr th {\n",
              "        vertical-align: top;\n",
              "    }\n",
              "\n",
              "    .dataframe thead th {\n",
              "        text-align: right;\n",
              "    }\n",
              "</style>\n",
              "<table border=\"1\" class=\"dataframe\">\n",
              "  <thead>\n",
              "    <tr style=\"text-align: right;\">\n",
              "      <th></th>\n",
              "      <th>AGE_norm</th>\n",
              "      <th>USMER</th>\n",
              "      <th>MEDICAL_UNIT</th>\n",
              "      <th>SEX</th>\n",
              "      <th>PATIENT_TYPE</th>\n",
              "      <th>PNEUMONIA</th>\n",
              "      <th>DIABETES</th>\n",
              "      <th>COPD</th>\n",
              "      <th>ASTHMA</th>\n",
              "      <th>INMSUPR</th>\n",
              "      <th>HIPERTENSION</th>\n",
              "      <th>OTHER_DISEASE</th>\n",
              "      <th>CARDIOVASCULAR</th>\n",
              "      <th>OBESITY</th>\n",
              "      <th>RENAL_CHRONIC</th>\n",
              "      <th>TOBACCO</th>\n",
              "      <th>CLASIFFICATION_FINAL</th>\n",
              "    </tr>\n",
              "  </thead>\n",
              "  <tbody>\n",
              "    <tr>\n",
              "      <th>0</th>\n",
              "      <td>0.747126</td>\n",
              "      <td>2</td>\n",
              "      <td>1</td>\n",
              "      <td>1</td>\n",
              "      <td>1</td>\n",
              "      <td>1.0</td>\n",
              "      <td>2</td>\n",
              "      <td>2</td>\n",
              "      <td>2</td>\n",
              "      <td>2</td>\n",
              "      <td>1</td>\n",
              "      <td>2</td>\n",
              "      <td>2</td>\n",
              "      <td>2</td>\n",
              "      <td>2</td>\n",
              "      <td>2</td>\n",
              "      <td>3</td>\n",
              "    </tr>\n",
              "    <tr>\n",
              "      <th>1</th>\n",
              "      <td>0.827586</td>\n",
              "      <td>2</td>\n",
              "      <td>1</td>\n",
              "      <td>2</td>\n",
              "      <td>1</td>\n",
              "      <td>1.0</td>\n",
              "      <td>2</td>\n",
              "      <td>2</td>\n",
              "      <td>2</td>\n",
              "      <td>2</td>\n",
              "      <td>1</td>\n",
              "      <td>2</td>\n",
              "      <td>2</td>\n",
              "      <td>1</td>\n",
              "      <td>1</td>\n",
              "      <td>2</td>\n",
              "      <td>5</td>\n",
              "    </tr>\n",
              "    <tr>\n",
              "      <th>2</th>\n",
              "      <td>0.632184</td>\n",
              "      <td>2</td>\n",
              "      <td>1</td>\n",
              "      <td>2</td>\n",
              "      <td>2</td>\n",
              "      <td>2.0</td>\n",
              "      <td>1</td>\n",
              "      <td>2</td>\n",
              "      <td>2</td>\n",
              "      <td>2</td>\n",
              "      <td>2</td>\n",
              "      <td>2</td>\n",
              "      <td>2</td>\n",
              "      <td>2</td>\n",
              "      <td>2</td>\n",
              "      <td>2</td>\n",
              "      <td>3</td>\n",
              "    </tr>\n",
              "    <tr>\n",
              "      <th>3</th>\n",
              "      <td>0.609195</td>\n",
              "      <td>2</td>\n",
              "      <td>1</td>\n",
              "      <td>1</td>\n",
              "      <td>1</td>\n",
              "      <td>2.0</td>\n",
              "      <td>2</td>\n",
              "      <td>2</td>\n",
              "      <td>2</td>\n",
              "      <td>2</td>\n",
              "      <td>2</td>\n",
              "      <td>2</td>\n",
              "      <td>2</td>\n",
              "      <td>2</td>\n",
              "      <td>2</td>\n",
              "      <td>2</td>\n",
              "      <td>7</td>\n",
              "    </tr>\n",
              "    <tr>\n",
              "      <th>4</th>\n",
              "      <td>0.781609</td>\n",
              "      <td>2</td>\n",
              "      <td>1</td>\n",
              "      <td>2</td>\n",
              "      <td>1</td>\n",
              "      <td>2.0</td>\n",
              "      <td>1</td>\n",
              "      <td>2</td>\n",
              "      <td>2</td>\n",
              "      <td>2</td>\n",
              "      <td>1</td>\n",
              "      <td>2</td>\n",
              "      <td>2</td>\n",
              "      <td>2</td>\n",
              "      <td>2</td>\n",
              "      <td>2</td>\n",
              "      <td>3</td>\n",
              "    </tr>\n",
              "  </tbody>\n",
              "</table>\n",
              "</div>\n",
              "      <button class=\"colab-df-convert\" onclick=\"convertToInteractive('df-17af5a78-f101-4dcc-8b7f-8cec2f306d25')\"\n",
              "              title=\"Convert this dataframe to an interactive table.\"\n",
              "              style=\"display:none;\">\n",
              "        \n",
              "  <svg xmlns=\"http://www.w3.org/2000/svg\" height=\"24px\"viewBox=\"0 0 24 24\"\n",
              "       width=\"24px\">\n",
              "    <path d=\"M0 0h24v24H0V0z\" fill=\"none\"/>\n",
              "    <path d=\"M18.56 5.44l.94 2.06.94-2.06 2.06-.94-2.06-.94-.94-2.06-.94 2.06-2.06.94zm-11 1L8.5 8.5l.94-2.06 2.06-.94-2.06-.94L8.5 2.5l-.94 2.06-2.06.94zm10 10l.94 2.06.94-2.06 2.06-.94-2.06-.94-.94-2.06-.94 2.06-2.06.94z\"/><path d=\"M17.41 7.96l-1.37-1.37c-.4-.4-.92-.59-1.43-.59-.52 0-1.04.2-1.43.59L10.3 9.45l-7.72 7.72c-.78.78-.78 2.05 0 2.83L4 21.41c.39.39.9.59 1.41.59.51 0 1.02-.2 1.41-.59l7.78-7.78 2.81-2.81c.8-.78.8-2.07 0-2.86zM5.41 20L4 18.59l7.72-7.72 1.47 1.35L5.41 20z\"/>\n",
              "  </svg>\n",
              "      </button>\n",
              "      \n",
              "  <style>\n",
              "    .colab-df-container {\n",
              "      display:flex;\n",
              "      flex-wrap:wrap;\n",
              "      gap: 12px;\n",
              "    }\n",
              "\n",
              "    .colab-df-convert {\n",
              "      background-color: #E8F0FE;\n",
              "      border: none;\n",
              "      border-radius: 50%;\n",
              "      cursor: pointer;\n",
              "      display: none;\n",
              "      fill: #1967D2;\n",
              "      height: 32px;\n",
              "      padding: 0 0 0 0;\n",
              "      width: 32px;\n",
              "    }\n",
              "\n",
              "    .colab-df-convert:hover {\n",
              "      background-color: #E2EBFA;\n",
              "      box-shadow: 0px 1px 2px rgba(60, 64, 67, 0.3), 0px 1px 3px 1px rgba(60, 64, 67, 0.15);\n",
              "      fill: #174EA6;\n",
              "    }\n",
              "\n",
              "    [theme=dark] .colab-df-convert {\n",
              "      background-color: #3B4455;\n",
              "      fill: #D2E3FC;\n",
              "    }\n",
              "\n",
              "    [theme=dark] .colab-df-convert:hover {\n",
              "      background-color: #434B5C;\n",
              "      box-shadow: 0px 1px 3px 1px rgba(0, 0, 0, 0.15);\n",
              "      filter: drop-shadow(0px 1px 2px rgba(0, 0, 0, 0.3));\n",
              "      fill: #FFFFFF;\n",
              "    }\n",
              "  </style>\n",
              "\n",
              "      <script>\n",
              "        const buttonEl =\n",
              "          document.querySelector('#df-17af5a78-f101-4dcc-8b7f-8cec2f306d25 button.colab-df-convert');\n",
              "        buttonEl.style.display =\n",
              "          google.colab.kernel.accessAllowed ? 'block' : 'none';\n",
              "\n",
              "        async function convertToInteractive(key) {\n",
              "          const element = document.querySelector('#df-17af5a78-f101-4dcc-8b7f-8cec2f306d25');\n",
              "          const dataTable =\n",
              "            await google.colab.kernel.invokeFunction('convertToInteractive',\n",
              "                                                     [key], {});\n",
              "          if (!dataTable) return;\n",
              "\n",
              "          const docLinkHtml = 'Like what you see? Visit the ' +\n",
              "            '<a target=\"_blank\" href=https://colab.research.google.com/notebooks/data_table.ipynb>data table notebook</a>'\n",
              "            + ' to learn more about interactive tables.';\n",
              "          element.innerHTML = '';\n",
              "          dataTable['output_type'] = 'display_data';\n",
              "          await google.colab.output.renderOutput(dataTable, element);\n",
              "          const docLink = document.createElement('div');\n",
              "          docLink.innerHTML = docLinkHtml;\n",
              "          element.appendChild(docLink);\n",
              "        }\n",
              "      </script>\n",
              "    </div>\n",
              "  </div>\n",
              "  "
            ],
            "text/plain": [
              "   AGE_norm  USMER  MEDICAL_UNIT  SEX  PATIENT_TYPE  PNEUMONIA  DIABETES  \\\n",
              "0  0.747126      2             1    1             1        1.0         2   \n",
              "1  0.827586      2             1    2             1        1.0         2   \n",
              "2  0.632184      2             1    2             2        2.0         1   \n",
              "3  0.609195      2             1    1             1        2.0         2   \n",
              "4  0.781609      2             1    2             1        2.0         1   \n",
              "\n",
              "   COPD  ASTHMA  INMSUPR  HIPERTENSION  OTHER_DISEASE  CARDIOVASCULAR  \\\n",
              "0     2       2        2             1              2               2   \n",
              "1     2       2        2             1              2               2   \n",
              "2     2       2        2             2              2               2   \n",
              "3     2       2        2             2              2               2   \n",
              "4     2       2        2             1              2               2   \n",
              "\n",
              "   OBESITY  RENAL_CHRONIC  TOBACCO  CLASIFFICATION_FINAL  \n",
              "0        2              2        2                     3  \n",
              "1        1              1        2                     5  \n",
              "2        2              2        2                     3  \n",
              "3        2              2        2                     7  \n",
              "4        2              2        2                     3  "
            ]
          },
          "execution_count": 45,
          "metadata": {},
          "output_type": "execute_result"
        }
      ],
      "source": [
        "# Concatenate the normalized 'age' column with the other feature columns\n",
        "x = pd.concat([data[['AGE_norm']], data[['USMER', 'MEDICAL_UNIT', 'SEX', 'PATIENT_TYPE', 'PNEUMONIA',\n",
        "       'DIABETES', 'COPD', 'ASTHMA', 'INMSUPR', 'HIPERTENSION',\n",
        "       'OTHER_DISEASE', 'CARDIOVASCULAR', 'OBESITY', 'RENAL_CHRONIC',\n",
        "       'TOBACCO', 'CLASIFFICATION_FINAL']]], axis=1)\n",
        "\n",
        "# Assign the target variable to y\n",
        "y = data['DEATH']\n",
        "\n",
        "x.head()"
      ]
    },
    {
      "cell_type": "markdown",
      "metadata": {
        "id": "4d2QOp8rwbUh"
      },
      "source": [
        "At first we are concatenating normalised age column with rest of features.\n",
        "\n",
        "Here, we seperate Target variable(***DEATH***) from Features to apply classification model to find accuracy of data.\n",
        "\n",
        "***'x' represents features or independent variables and 'y' represents target or dependent variable.***"
      ]
    },
    {
      "cell_type": "markdown",
      "metadata": {
        "id": "70Hm5Q8vBFlR"
      },
      "source": [
        "**Check Distribution of Target Variable**"
      ]
    },
    {
      "cell_type": "code",
      "execution_count": null,
      "metadata": {
        "colab": {
          "base_uri": "https://localhost:8080/"
        },
        "id": "qF_VQyXXBG0E",
        "outputId": "e7d04fc2-e980-4b9f-ecc0-9cc57876017b"
      },
      "outputs": [
        {
          "data": {
            "text/plain": [
              "2    968031\n",
              "1     75125\n",
              "Name: DEATH, dtype: int64"
            ]
          },
          "execution_count": 46,
          "metadata": {},
          "output_type": "execute_result"
        }
      ],
      "source": [
        "y.value_counts()"
      ]
    },
    {
      "cell_type": "markdown",
      "metadata": {
        "id": "51PitBz4BW9q"
      },
      "source": [
        "Outcomes show that target variable has imbalanced distribution; therefore, upsampling can be applied to create a balanced dataset"
      ]
    },
    {
      "cell_type": "code",
      "execution_count": null,
      "metadata": {
        "colab": {
          "base_uri": "https://localhost:8080/",
          "height": 474
        },
        "id": "nEK49nvC6Xlk",
        "outputId": "2f36931d-00c9-49ed-8cd8-8c8f8b5e37fe"
      },
      "outputs": [
        {
          "data": {
            "image/png": "[encoded data removed]",
            "text/plain": [
              "<Figure size 640x480 with 1 Axes>"
            ]
          },
          "metadata": {},
          "output_type": "display_data"
        }
      ],
      "source": [
        "sns.countplot(x ='DEATH', data = data, palette = \"Accent\")\n",
        "plt.title(\"Death Distribution\", fontsize=15,color=\"black\")\n",
        "plt.show()"
      ]
    },
    {
      "cell_type": "markdown",
      "metadata": {
        "id": "GTZibD4dK4v0"
      },
      "source": [
        "It is very clear from the plot that DEATH column is imbalanced. So, we are applying SMOTE Upsampling."
      ]
    },
    {
      "cell_type": "markdown",
      "metadata": {
        "id": "k5ay--63Bfu5"
      },
      "source": [
        "**APPLY SMOTE UPSAMPLING**"
      ]
    },
    {
      "cell_type": "code",
      "execution_count": null,
      "metadata": {
        "id": "YfTw6-OhBlhx"
      },
      "outputs": [],
      "source": [
        "from imblearn.over_sampling import SMOTE\n",
        "sm = SMOTE()\n",
        "sm_x1, sm_y1 = sm.fit_resample(x,y)"
      ]
    },
    {
      "cell_type": "code",
      "execution_count": null,
      "metadata": {
        "colab": {
          "base_uri": "https://localhost:8080/"
        },
        "id": "VeC-GEB7JX9R",
        "outputId": "bb6fb080-a2af-4d2f-cafc-542ce7086dda"
      },
      "outputs": [
        {
          "data": {
            "text/plain": [
              "1    968031\n",
              "2    968031\n",
              "Name: DEATH, dtype: int64"
            ]
          },
          "execution_count": 49,
          "metadata": {},
          "output_type": "execute_result"
        }
      ],
      "source": [
        "sm_y1.value_counts()"
      ]
    },
    {
      "cell_type": "markdown",
      "metadata": {
        "id": "bSRHG6RrNBKv"
      },
      "source": [
        "Here I applied SMOTE Upsampling method to make DEATH column balanced so that I can do further analysis on it."
      ]
    },
    {
      "cell_type": "code",
      "execution_count": null,
      "metadata": {
        "colab": {
          "base_uri": "https://localhost:8080/",
          "height": 474
        },
        "id": "45rBmBp87FxT",
        "outputId": "8bd635d6-1ebc-4820-f39f-969d0d94374b"
      },
      "outputs": [
        {
          "data": {
            "image/png": "[encoded data removed]",
            "text/plain": [
              "<Figure size 640x480 with 1 Axes>"
            ]
          },
          "metadata": {},
          "output_type": "display_data"
        }
      ],
      "source": [
        "sns.countplot(x=sm_y1, data=data, palette = \"Accent\")\n",
        "plt.title(\"Death Distribution\", fontsize=15,color=\"black\")\n",
        "plt.show()"
      ]
    },
    {
      "cell_type": "markdown",
      "metadata": {
        "id": "DymbBH8LJf3g"
      },
      "source": [
        "Here we can clearly see that after upsampling DEATH column is balanced."
      ]
    },
    {
      "cell_type": "markdown",
      "metadata": {
        "id": "WQcPyMJJRNvy"
      },
      "source": [
        "**BUILDING CLASSIFICATION MODEL**"
      ]
    },
    {
      "cell_type": "code",
      "execution_count": null,
      "metadata": {
        "colab": {
          "base_uri": "https://localhost:8080/"
        },
        "id": "TnqJhCN0-82T",
        "outputId": "b75b15c7-3c24-4f5f-9b0f-b9be0e18d3f7"
      },
      "outputs": [
        {
          "name": "stdout",
          "output_type": "stream",
          "text": [
            "Train_x : (1548849, 17)\n",
            "Test_x : (387213, 17)\n",
            "Train_y : (1548849,)\n",
            "Test_y : (387213,)\n"
          ]
        }
      ],
      "source": [
        "from sklearn.model_selection import train_test_split\n",
        "x_train, x_test, y_train, y_test = train_test_split(sm_x1,sm_y1, test_size=0.2, random_state=42)\n",
        "print(\"Train_x :\",x_train.shape)\n",
        "print(\"Test_x :\",x_test.shape)\n",
        "print(\"Train_y :\",y_train.shape)\n",
        "print(\"Test_y :\",y_test.shape)"
      ]
    },
    {
      "cell_type": "markdown",
      "metadata": {
        "id": "fmNdTDD-xDGO"
      },
      "source": [
        "The resulting data is split into X_train (training features), X_test (testing features), y_train (training target) and y_test (testing target), according to the specified test size and random state."
      ]
    },
    {
      "cell_type": "markdown",
      "metadata": {
        "id": "oIPT3w0-Gtf6"
      },
      "source": [
        "**DECISION TREE CLASSIFIER**"
      ]
    },
    {
      "cell_type": "code",
      "execution_count": null,
      "metadata": {
        "id": "E_kN4FGg_Czt"
      },
      "outputs": [],
      "source": [
        "from sklearn.tree import DecisionTreeClassifier"
      ]
    },
    {
      "cell_type": "code",
      "execution_count": null,
      "metadata": {
        "id": "pG_ordebBFeG"
      },
      "outputs": [],
      "source": [
        "model = DecisionTreeClassifier()\n",
        "dct_fit = model.fit(x_train, y_train)\n",
        "y_pred = dct_fit.predict(x_test)"
      ]
    },
    {
      "cell_type": "code",
      "execution_count": null,
      "metadata": {
        "id": "c18TZLWxB5uE"
      },
      "outputs": [],
      "source": [
        "from sklearn.metrics import accuracy_score, confusion_matrix, classification_report"
      ]
    },
    {
      "cell_type": "code",
      "execution_count": null,
      "metadata": {
        "colab": {
          "base_uri": "https://localhost:8080/"
        },
        "id": "fda50Tx2B-3T",
        "outputId": "120ed973-bef0-4f7c-987d-17483cc3ce45"
      },
      "outputs": [
        {
          "name": "stdout",
          "output_type": "stream",
          "text": [
            "Accuracy:  0.9499706879676044\n",
            "Classification Report:                precision    recall  f1-score   support\n",
            "\n",
            "           1       0.93      0.97      0.95    193756\n",
            "           2       0.97      0.93      0.95    193457\n",
            "\n",
            "    accuracy                           0.95    387213\n",
            "   macro avg       0.95      0.95      0.95    387213\n",
            "weighted avg       0.95      0.95      0.95    387213\n",
            "\n",
            "Confusion Matrix  [[187475   6281]\n",
            " [ 13091 180366]]\n"
          ]
        }
      ],
      "source": [
        "Accuracy = accuracy_score(y_test, y_pred)\n",
        "Confusion_Matrix = confusion_matrix(y_test, y_pred)\n",
        "print('Accuracy: ', Accuracy)\n",
        "print('Classification Report: ', classification_report(y_test, y_pred))\n",
        "print('Confusion Matrix ', Confusion_Matrix)"
      ]
    },
    {
      "cell_type": "markdown",
      "metadata": {
        "id": "3Hd416M0zDtd"
      },
      "source": [
        "This code calculates the accuracy score, confusion matrix, and classification report for the predictions made by the decision tree classifier."
      ]
    },
    {
      "cell_type": "markdown",
      "metadata": {
        "id": "HzY72i5ZG5SN"
      },
      "source": [
        "**RANDOM FOREST CLASSIFIER**"
      ]
    },
    {
      "cell_type": "code",
      "execution_count": null,
      "metadata": {
        "colab": {
          "background_save": true
        },
        "id": "RNlgQeSMCLcw"
      },
      "outputs": [],
      "source": [
        "from sklearn.ensemble import RandomForestClassifier\n",
        "\n",
        "rfc = RandomForestClassifier()\n",
        "rfc.fit(x_train, y_train)\n",
        "\n",
        "y_pred = rfc.predict(x_test)\n",
        "y_pred_train = rfc.predict(x_train)\n"
      ]
    },
    {
      "cell_type": "code",
      "execution_count": null,
      "metadata": {
        "colab": {
          "background_save": true
        },
        "id": "cYElZzVFDAd7",
        "outputId": "f77d4dee-dff7-4908-f960-62d367061fa6"
      },
      "outputs": [
        {
          "name": "stdout",
          "output_type": "stream",
          "text": [
            "Accuracy: 0.9412209817335678\n",
            "Classification Report:               precision    recall  f1-score   support\n",
            "\n",
            "           1       0.93      0.96      0.94    193756\n",
            "           2       0.96      0.93      0.94    193457\n",
            "\n",
            "    accuracy                           0.94    387213\n",
            "   macro avg       0.94      0.94      0.94    387213\n",
            "weighted avg       0.94      0.94      0.94    387213\n",
            "\n",
            "Confusion Matrix: [[185416   8340]\n",
            " [ 14420 179037]]\n"
          ]
        }
      ],
      "source": [
        "print('Accuracy:', accuracy_score(y_test, y_pred))\n",
        "print('Classification Report:', classification_report(y_test, y_pred))\n",
        "print('Confusion Matrix:', confusion_matrix(y_test, y_pred))"
      ]
    },
    {
      "cell_type": "markdown",
      "metadata": {
        "id": "SVVJ0La1RsB9"
      },
      "source": [
        "# **Conclusion**\n",
        "\n",
        "1. In this project I predicted \"Death\" situation with more than 90% accuracy by using just two algorithms.\n",
        "       Decision Tree Classifier Score :- 95 %\n",
        "       Random Forest Classifier Score :- 94 %\n",
        "2. The important part of this project was solving the imbalance dataset problem, which I figured it out with **SMOTE Upsampling** method.\n",
        "3. So through problem statement our classification model are performing very good performance to find solution on our problem statement."
      ]
    }
  ],
  "metadata": {
    "colab": {
      "provenance": []
    },
    "kernelspec": {
      "display_name": "Python 3",
      "name": "python3"
    },
    "language_info": {
      "name": "python"
    }
  },
  "nbformat": 4,
  "nbformat_minor": 0
}
